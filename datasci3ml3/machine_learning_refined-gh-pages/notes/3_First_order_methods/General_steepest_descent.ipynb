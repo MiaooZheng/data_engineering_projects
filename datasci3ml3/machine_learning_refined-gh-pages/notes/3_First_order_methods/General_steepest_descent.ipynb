{
 "cells": [
  {
   "cell_type": "markdown",
   "metadata": {},
   "source": [
    "## Chapter 3: First order methods"
   ]
  },
  {
   "cell_type": "markdown",
   "metadata": {},
   "source": [
    "# 3.13 General steepest descent"
   ]
  },
  {
   "cell_type": "markdown",
   "metadata": {},
   "source": [
    "In this post we describe several variations of normalized gradient descent, known generally as *steepest descent* algorithms. These variations arise out of a small but fundamental change to the gradient descent setup, a change that has significant impact on the form of a descent direction but importantly, not on the convergence of the methods (steepest descent methods converge under the same general condition as gradient descent, i.e., that the length of the steps eventually diminishes)."
   ]
  },
  {
   "cell_type": "code",
   "execution_count": 1,
   "metadata": {},
   "outputs": [],
   "source": [
    "## This code cell will not be shown in the HTML version of this notebook\n",
    "# imports from custom library\n",
    "import sys\n",
    "sys.path.append('../../')\n",
    "import matplotlib.pyplot as plt\n",
    "from mlrefined_libraries import calculus_library as callib\n",
    "from mlrefined_libraries import math_optimization_library as optlib\n",
    "from mlrefined_libraries import linear_algebra_library as linlib\n",
    "import autograd.numpy as np\n",
    "import time\n",
    "\n",
    "# This is needed to compensate for matplotlib notebook's tendancy to blow up images when plotted inline\n",
    "%matplotlib notebook\n",
    "from matplotlib import rcParams\n",
    "rcParams['figure.autolayout'] = True\n",
    "\n",
    "%load_ext autoreload\n",
    "%autoreload 2"
   ]
  },
  {
   "cell_type": "markdown",
   "metadata": {},
   "source": [
    "## 3.13.1  Generalized Steepest descent"
   ]
  },
  {
   "cell_type": "markdown",
   "metadata": {},
   "source": [
    "When we first discussed gradient descent the descent direction given by the negative gradient fell out naturally from a geometric understanding of hyperplanes. Here we begin our discussion of steepest descent algorithms by re-visiting gradient descent and deriving the descent direction using a more rigorous mathematical framework. This framework immediately suggests a way to generalize the gradient descent algorithm under different *norms*, which we then explore."
   ]
  },
  {
   "cell_type": "markdown",
   "metadata": {},
   "source": [
    "### Steepest descent direction in the $\\ell_2$ norm"
   ]
  },
  {
   "cell_type": "markdown",
   "metadata": {},
   "source": [
    "When first deriving the gradient descent direction of a multi-input function $g(\\mathbf{w})$ at a point $\\mathbf{v}$ we began by examining the tangent hyperplane to $g$ at this point\n",
    "\n",
    "\\begin{equation}\n",
    "h\\left(\\mathbf{w}\\right)=g\\left(\\mathbf{v}\\right)+\\nabla g\\left(\\mathbf{v}\\right)^{T}\\left(\\mathbf{w}-\\mathbf{v}\\right)\n",
    "\\end{equation}\n",
    "\n",
    "We then reasoned out that since in general we know that the *ascent* direction on a hyperplane is given by its set of 'slopes' - stored in $\\nabla g(\\mathbf{v})$ -  that intuitively therefore the descent direction is given by the negative gradient as $-\\nabla g(\\mathbf{v})$, or normalized to unit length as $-\\frac{\\nabla g(\\mathbf{v})}{\\left\\Vert \\nabla g(\\mathbf{v}) \\right\\Vert_2 }$.  We often used the latter unit-normalized version since after all we care only about the descent *direction*."
   ]
  },
  {
   "cell_type": "markdown",
   "metadata": {},
   "source": [
    "This descent direction can be derived more formally as follows.  Note that $\\mathbf{d} = \\mathbf{w} - \\mathbf{v}$ is a general search direction centered at the point $\\mathbf{v}$.  We want to find the unit-length direction $\\mathbf{d}$ that provides the smallest evaluation on the hyperplane, i.e., the one that gives the smallest value $g(\\mathbf{v}) + \\nabla g(\\mathbf{v})^T(\\mathbf{w} - \\mathbf{v}) = g(\\mathbf{v}) + \\nabla g(\\mathbf{v})^T\\mathbf{d}$.  Since $\\mathbf{d}$ is only present in the second term we only need care about finding the unit length direction $\\mathbf{d}$ so that $\\nabla g(\\mathbf{v})^T\\mathbf{d}$ is as small as possible (after all, $g(\\mathbf{v})$ is constant).\n",
    "\n",
    "Formally this is a simple constrained minimization problem"
   ]
  },
  {
   "cell_type": "markdown",
   "metadata": {},
   "source": [
    "\\begin{equation}\n",
    "\\begin{array}{cc}\n",
    "\\underset{\\mathbf{d}}{\\text{minimize}} & \\nabla g(\\mathbf{v})^{T}\\mathbf{d}\\\\\n",
    "\\text{subject to} & \\left\\Vert \\mathbf{d}\\right\\Vert _{2}=1\\\\\n",
    "\\end{array}\n",
    "\\end{equation}"
   ]
  },
  {
   "cell_type": "markdown",
   "metadata": {},
   "source": [
    "Using the toy in the next Python cell we explore possible solutions to this problem in two dimensions for a particular choice of gradient vector, gaining valuable geometric intuition as to what the solution should be.  There we plot an example gradient vector $\\nabla g (\\mathbf{v})$ as a red arrow, along with the $\\ell_2$ unit ball. Moving the slider from left to right you can test various directions $\\mathbf{d}$ (each shown as a black arrow) on this $\\ell_2$ unit ball computing the inner product $\\nabla g(\\mathbf{v})^{T}\\mathbf{d}$, whose value is simultaneously plotted in the right panel.  As you move the slider right the direction providing the *smallest* value is shown as a green arrow in the left panel, and is highlighted in green in the plot in the right panel.  "
   ]
  },
  {
   "cell_type": "code",
   "execution_count": 2,
   "metadata": {},
   "outputs": [],
   "source": [
    "# This code cell will not be shown in the HTML version of this notebook\n",
    "# create an animation showing the origin of the sine and cosine functions\n",
    "num_frames = 200\n",
    "pt = [1.3,0.75]\n",
    "optlib.steepest_descent_direction.L2(pt,num_frames,savepath='videos/animation_15.mp4',fps=10)"
   ]
  },
  {
   "cell_type": "code",
   "execution_count": 3,
   "metadata": {},
   "outputs": [
    {
     "data": {
      "text/html": [
       "\n",
       "<video width=\"1000\" height=\"400\" controls loop>\n",
       "  <source src='videos/animation_15.mp4' type=\"video/mp4\">\n",
       "  </video>\n"
      ],
      "text/plain": [
       "<IPython.core.display.HTML object>"
      ]
     },
     "execution_count": 3,
     "metadata": {},
     "output_type": "execute_result"
    }
   ],
   "source": [
    "## This code cell will not be shown in the HTML version of this notebook\n",
    "from IPython.display import HTML\n",
    "HTML(\"\"\"\n",
    "<video width=\"1000\" height=\"400\" controls loop>\n",
    "  <source src='videos/animation_15.mp4' type=\"video/mp4\">\n",
    "  </video>\n",
    "\"\"\")"
   ]
  },
  {
   "cell_type": "markdown",
   "metadata": {},
   "source": [
    "As can be seen it appears as if indeed $\\mathbf{d} = -\\frac{\\nabla g(\\mathbf{v})}{\\left\\Vert \\nabla g(\\mathbf{v}) \\right\\Vert_2 }$ is the direction producing the smallest inner product."
   ]
  },
  {
   "cell_type": "markdown",
   "metadata": {},
   "source": [
    "To prove this formally we can use the *inner product rule* which tells us almost immediately what the solution to this problem is. According to the inner product rule $\\nabla g(\\mathbf{v})^{T}\\mathbf{d}$ can be written as \n",
    "\n",
    "$$\\nabla g(\\mathbf{v})^{T}\\mathbf{d} = \\left \\Vert \\nabla g(\\mathbf{v}) \\right \\Vert_2 \\left \\Vert \\mathbf{d} \\right \\Vert_2 \\text{cos}(\\theta)$$ \n",
    "\n",
    "where $\\theta$ is the angle between $\\nabla g(\\mathbf{v})$ and $\\mathbf{d}$.\n",
    "\n",
    "Noting that both $\\left \\Vert \\nabla g(\\mathbf{v}) \\right \\Vert_2$ and $\\left \\Vert \\mathbf{d} \\right \\Vert_2$ have constant values (the former is the length of the gradient at $\\mathbf{v}$, and latter is just $1$), the value of $\\nabla g(\\mathbf{v})^{T}\\mathbf{d}$ is smallest when $\\text{cos}(\\theta)$ is smallest, i.e., when $\\theta = \\pi$. In other words, $\\mathbf{d}$ must point in the same direction as $-\\nabla g(\\mathbf{v})$, and also be unit length. Thus we have $\\mathbf{d} = -\\frac{\\nabla g(\\mathbf{v})}{\\left \\Vert \\nabla g(\\mathbf{v}) \\right \\Vert_2}$, that is indeed the normalized gradient descent direction. In deriving the gradient descent direction in this way, $\\mathbf{d}$ is referred to more generally as the *steepest descent direction*."
   ]
  },
  {
   "cell_type": "markdown",
   "metadata": {},
   "source": [
    "### Steepest descent direction in the $\\ell_{\\infty}$ norm"
   ]
  },
  {
   "cell_type": "markdown",
   "metadata": {},
   "source": [
    "Replacing the $\\ell_2$ norm with the $\\ell_{\\infty}$ norm in our original constrained optimization problem we have a similar looking problem whose solution defines a new kind of steepest descent direction"
   ]
  },
  {
   "cell_type": "markdown",
   "metadata": {},
   "source": [
    "\\begin{equation}\n",
    "\\begin{array}{cc}\n",
    "\\underset{\\mathbf{d}}{\\text{minimize}} & \\nabla g(\\mathbf{v})^{T}\\mathbf{d}\\\\\n",
    "\\text{subject to} & \\left\\Vert \\mathbf{d}\\right\\Vert _{\\infty}=1\\\\\n",
    "\\end{array}\n",
    "\\end{equation}"
   ]
  },
  {
   "cell_type": "markdown",
   "metadata": {},
   "source": [
    "Using the toy in the next Python cell we explore possible solutions to this problem in two dimensions for a particular choice of gradient vector, gaining valuable geometric intuition as to what the solution should be. Here once again we plot an example gradient vector $\\nabla g (\\mathbf{v})$ as a red arrow, along with the $\\ell_{\\infty}$ unit ball. Moving the slider from left to right you can test various directions $\\mathbf{d}$ (each shown as a black arrow) on this $\\ell_{\\infty}$ unit ball computing the inner product $\\nabla g(\\mathbf{v})^{T}\\mathbf{d}$, whose value is simultaneously plotted in the right panel. As you move the slider right once more the direction providing the *smallest* value is shown as a green arrow in the left panel, and is highlighted in green in the plot in the right panel.  "
   ]
  },
  {
   "cell_type": "code",
   "execution_count": 4,
   "metadata": {},
   "outputs": [],
   "source": [
    "# This code cell will not be shown in the HTML version of this notebook\n",
    "# create an animation showing the origin of the sine and cosine functions\n",
    "num_frames = 100\n",
    "pt = [1.3,0.75]\n",
    "optlib.steepest_descent_direction.Linf(pt,num_frames,savepath='videos/animation_16.mp4',fps=10)"
   ]
  },
  {
   "cell_type": "code",
   "execution_count": 5,
   "metadata": {},
   "outputs": [
    {
     "data": {
      "text/html": [
       "\n",
       "<video width=\"1000\" height=\"400\" controls loop>\n",
       "  <source src='videos/animation_16.mp4' type=\"video/mp4\">\n",
       "  </video>\n"
      ],
      "text/plain": [
       "<IPython.core.display.HTML object>"
      ]
     },
     "execution_count": 5,
     "metadata": {},
     "output_type": "execute_result"
    }
   ],
   "source": [
    "## This code cell will not be shown in the HTML version of this notebook\n",
    "from IPython.display import HTML\n",
    "HTML(\"\"\"\n",
    "<video width=\"1000\" height=\"400\" controls loop>\n",
    "  <source src='videos/animation_16.mp4' type=\"video/mp4\">\n",
    "  </video>\n",
    "\"\"\")"
   ]
  },
  {
   "cell_type": "markdown",
   "metadata": {},
   "source": [
    "Based on the example above you may now have a hunch about what $\\mathbf{d}$ should be. But let's make sure by examining a different gradient vector $\\nabla g (\\mathbf{v})$.   "
   ]
  },
  {
   "cell_type": "markdown",
   "metadata": {},
   "source": [
    "Toying around with the slider above it looks as if *each* entry of the descent direction here is the negative unit length partial derivative along its respective coordinate. That is, the $j^{th}$ entry is given as\n",
    "\n",
    "$$d_j = \\frac{ \\frac{\\partial}{\\partial w_j}g(\\mathbf{v}) }{\\left| \\frac{\\partial}{\\partial w_j}g(\\mathbf{v}) \\right|} = \\text{sign}\\left(\\frac{\\partial}{\\partial w_j}g(\\mathbf{v})\\right)$$\n",
    "\n",
    "and hence the entire descent direction can be written simply as \n",
    "\n",
    "\\begin{equation}\n",
    "\\mathbf{d} = -\\, \\text{sign}\\left(\\nabla g(\\mathbf{v}) \\right)\n",
    "\\end{equation}\n",
    "\n",
    "These directions tend to most often be constrainted to the corners of the unit square or - in higher dimensions - the unit hypercube (the exceptions being when one partial derivative is exactly equal to zero).\n",
    "\n",
    "This intuitied formula is in fact correct, and can be proven more rigorously as show in the Appendix Section of this post."
   ]
  },
  {
   "cell_type": "markdown",
   "metadata": {},
   "source": [
    "The steepest descent step at $\\mathbf{w}^{k-1}$ in this direction looks like\n",
    "\n",
    "\\begin{equation}\n",
    "\\mathbf{w}^{k} = \\mathbf{w}^{k-1} - \\alpha\\, \\text{sign}\\left(\\nabla g(\\mathbf{w}^{k-1}) \\right)\n",
    "\\end{equation}\n",
    "\n",
    "Due to the $\\text{sign} (\\cdot)$ function these steps tend to be at 'diagonal' traveling largely in directions defined by the corners of the unit square.  Because the set of directions is restricted one often sees the use of coordinate-wise steplength parameters with this method (e.g., [Rprop](https://en.wikipedia.org/wiki/Rprop)). "
   ]
  }
 ],
 "metadata": {
  "kernelspec": {
   "display_name": "Python 3 (ipykernel)",
   "language": "python",
   "name": "python3"
  },
  "language_info": {
   "codemirror_mode": {
    "name": "ipython",
    "version": 3
   },
   "file_extension": ".py",
   "mimetype": "text/x-python",
   "name": "python",
   "nbconvert_exporter": "python",
   "pygments_lexer": "ipython3",
   "version": "3.8.10"
  },
  "toc": {
   "colors": {
    "hover_highlight": "#DAA520",
    "navigate_num": "#000000",
    "navigate_text": "#333333",
    "running_highlight": "#FF0000",
    "selected_highlight": "#FFD700",
    "sidebar_border": "#EEEEEE",
    "wrapper_background": "#FFFFFF"
   },
   "moveMenuLeft": true,
   "nav_menu": {
    "height": "103px",
    "width": "252px"
   },
   "navigate_menu": true,
   "number_sections": false,
   "sideBar": true,
   "threshold": 4,
   "toc_cell": false,
   "toc_section_display": "block",
   "toc_window_display": false,
   "widenNotebook": false
  },
  "widgets": {
   "application/vnd.jupyter.widget-state+json": {
    "state": {},
    "version_major": 1,
    "version_minor": 0
   }
  }
 },
 "nbformat": 4,
 "nbformat_minor": 2
}

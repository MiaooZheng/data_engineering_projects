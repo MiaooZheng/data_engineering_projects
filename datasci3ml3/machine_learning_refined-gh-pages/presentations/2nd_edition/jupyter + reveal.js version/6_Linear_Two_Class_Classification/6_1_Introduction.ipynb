{
 "cells": [
  {
   "cell_type": "markdown",
   "metadata": {
    "slideshow": {
     "slide_type": "slide"
    }
   },
   "source": [
    "# 6.1  Introduction"
   ]
  },
  {
   "cell_type": "markdown",
   "metadata": {
    "slideshow": {
     "slide_type": "subslide"
    }
   },
   "source": [
    "- In this Chapter we introduce the most popular form of nonlinear regression dealt with in machine learning - called *two-class classification*.  \n",
    "\n",
    "\n",
    "- The first thing that distinguishes this kind of problem from the kind of regression we have seen thus far is *the data itself*.\n",
    "\n",
    "\n",
    "- More specifically *its output*: two-class classification datasets have output values that take on *only one of two values* with each value referred to as a *class*.  \n"
   ]
  },
  {
   "cell_type": "markdown",
   "metadata": {
    "slideshow": {
     "slide_type": "subslide"
    }
   },
   "source": [
    "- Common examples of two class classification problems include \n",
    "  - face and general object detection, with classes consisting of with a face or object versus non-facial/object images\n",
    "  - textual sentiment analysis where classes consist of written product reviews ascribing a positive or negative opinion\n",
    "  - automatic diagnosis of medical conditions where classes consist of medical data corresponding to patients who either do or do not have a specific malady "
   ]
  },
  {
   "cell_type": "markdown",
   "metadata": {
    "slideshow": {
     "slide_type": "subslide"
    }
   },
   "source": [
    "- This subtle difference is important, and spurs the development of new  cost functions that are better-suited to deal with such data.  \n",
    "\n",
    "\n",
    "- Moreover - as we describe in this Chapter - these new cost functions are formulated based on a wide array of motivating perspectives.\n",
    "\n",
    "\n",
    "- This includes *logistic regression*, the *perceptron*, and *support vector machines* perspectives on two-class classification.  \n",
    "\n",
    "\n",
    "- While these perspectives widely differ on the surface they all - as we will see - reduce to virtually the same essential principle for two-class classification."
   ]
  }
 ],
 "metadata": {
  "celltoolbar": "Slideshow",
  "kernelspec": {
   "display_name": "Python 3",
   "language": "python",
   "name": "python3"
  },
  "language_info": {
   "codemirror_mode": {
    "name": "ipython",
    "version": 3
   },
   "file_extension": ".py",
   "mimetype": "text/x-python",
   "name": "python",
   "nbconvert_exporter": "python",
   "pygments_lexer": "ipython3",
   "version": "3.6.6"
  },
  "toc": {
   "colors": {
    "hover_highlight": "#DAA520",
    "navigate_num": "#000000",
    "navigate_text": "#333333",
    "running_highlight": "#FF0000",
    "selected_highlight": "#FFD700",
    "sidebar_border": "#EEEEEE",
    "wrapper_background": "#FFFFFF"
   },
   "moveMenuLeft": true,
   "nav_menu": {
    "height": "12px",
    "width": "252px"
   },
   "navigate_menu": true,
   "number_sections": false,
   "sideBar": true,
   "threshold": 4,
   "toc_cell": false,
   "toc_section_display": "block",
   "toc_window_display": false,
   "widenNotebook": false
  },
  "widgets": {
   "application/vnd.jupyter.widget-state+json": {
    "state": {},
    "version_major": 1,
    "version_minor": 0
   }
  }
 },
 "nbformat": 4,
 "nbformat_minor": 2
}

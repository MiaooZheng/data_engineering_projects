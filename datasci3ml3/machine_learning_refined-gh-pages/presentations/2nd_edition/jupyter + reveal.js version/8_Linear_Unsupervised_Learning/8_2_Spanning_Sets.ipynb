{
 "cells": [
  {
   "cell_type": "markdown",
   "metadata": {
    "slideshow": {
     "slide_type": "slide"
    }
   },
   "source": [
    "# 8.2 Fixed Spanning Sets, Orthonormality, and Projections"
   ]
  },
  {
   "cell_type": "markdown",
   "metadata": {
    "slideshow": {
     "slide_type": "subslide"
    }
   },
   "source": [
    "- The fundamental principles of unsupervised learning all lie in some very rudimentary ideas from linear algebra combined with the cost-function based approach to learning we have seen previously with supervised methods. \n",
    "\n",
    "\n",
    "- This is because unsupervised learning is about effectively representing datasets with no output, i.e., *only input data*.\n",
    "\n",
    "\n",
    "- Our goal with such data is simply to effectively represent it, and this is a task that has roots in the notion of a *spanning set of vectors* from basic linear algebra."
   ]
  },
  {
   "cell_type": "markdown",
   "metadata": {
    "slideshow": {
     "slide_type": "subslide"
    }
   },
   "source": [
    "- In this Section we review the fundamental concepts from linear algebra surrounding the notion of a spanning set of vectors. \n",
    "\n",
    "\n",
    "- This includes: linear independence, learning proper weights for a fixed basis set representation, orthogonal bases and representation, and projections. \n",
    "\n",
    "\n",
    "- Reviewing these topics up front will allow us to much more effectively tackle and intuit unsupervised leaning techniques since they can be thought of as direct extensions."
   ]
  },
  {
   "cell_type": "markdown",
   "metadata": {
    "slideshow": {
     "slide_type": "subslide"
    }
   },
   "source": [
    "You can toggle the code on and off in this presentation via the button below."
   ]
  },
  {
   "cell_type": "code",
   "execution_count": 1,
   "metadata": {
    "slideshow": {
     "slide_type": "subslide"
    }
   },
   "outputs": [
    {
     "data": {
      "text/html": [
       "<script>\n",
       "code_show=true; \n",
       "function code_toggle() {\n",
       " if (code_show){\n",
       " $('div.input').hide();\n",
       " } else {\n",
       " $('div.input').show();\n",
       " }\n",
       " code_show = !code_show\n",
       "} \n",
       "$( document ).ready(code_toggle);\n",
       "</script>\n",
       "<form action=\"javascript:code_toggle()\"><input type=\"submit\" value=\"Click here to toggle on/off the raw code.\"></form>"
      ],
      "text/plain": [
       "<IPython.core.display.HTML object>"
      ]
     },
     "execution_count": 1,
     "metadata": {},
     "output_type": "execute_result"
    }
   ],
   "source": [
    "from IPython.display import HTML\n",
    "\n",
    "HTML('''<script>\n",
    "code_show=true; \n",
    "function code_toggle() {\n",
    " if (code_show){\n",
    " $('div.input').hide();\n",
    " } else {\n",
    " $('div.input').show();\n",
    " }\n",
    " code_show = !code_show\n",
    "} \n",
    "$( document ).ready(code_toggle);\n",
    "</script>\n",
    "<form action=\"javascript:code_toggle()\"><input type=\"submit\" value=\"Click here to toggle on/off the raw code.\"></form>''')"
   ]
  },
  {
   "cell_type": "code",
   "execution_count": 2,
   "metadata": {
    "slideshow": {
     "slide_type": "skip"
    }
   },
   "outputs": [],
   "source": [
    "# This code cell will not be shown in the HTML version of this notebook\n",
    "# imports from custom library\n",
    "import sys\n",
    "sys.path.append('../../')\n",
    "import matplotlib.pyplot as plt\n",
    "import numpy as np\n",
    "\n",
    "# custom libs\n",
    "from mlrefined_libraries import unsupervised_library as unsuplib\n",
    "from mlrefined_libraries import linear_algebra_library as linlib\n",
    "\n",
    "datapath = '../../mlrefined_datasets/unsuperlearn_datasets/'\n",
    "\n",
    "# This is needed to compensate for matplotlib notebook's tendancy to blow up images when plotted inline\n",
    "%matplotlib notebook\n",
    "from matplotlib import rcParams\n",
    "rcParams['figure.autolayout'] = True\n",
    "\n",
    "%load_ext autoreload\n",
    "%autoreload 2"
   ]
  },
  {
   "cell_type": "markdown",
   "metadata": {
    "slideshow": {
     "slide_type": "slide"
    }
   },
   "source": [
    "##  Perfectly representing data via a fixed spanning set"
   ]
  },
  {
   "cell_type": "markdown",
   "metadata": {
    "slideshow": {
     "slide_type": "subslide"
    }
   },
   "source": [
    "- Remember when thinking about data points in a multi-dimensional *vector space*, we can think of them simultaneously as 'dots' (as shown in the left panel) or as 'arrows' (as in the middle panel below). \n",
    "\n",
    "\n",
    "- When thinking about *spanning sets of vectors* it is often helpful to visualize points in the same space using both of these conventions - i.e., some as 'dots' and others as 'arrows' as shown in the right panel.  "
   ]
  },
  {
   "cell_type": "markdown",
   "metadata": {
    "slideshow": {
     "slide_type": "subslide"
    }
   },
   "source": [
    "  <img src= '../../mlrefined_images/unsupervised_images/vector_dot_perspective.png' width=\"110%\"  height=\"auto\" alt=\"\"/>"
   ]
  },
  {
   "cell_type": "markdown",
   "metadata": {
    "slideshow": {
     "slide_type": "subslide"
    }
   },
   "source": [
    "\n",
    "\n",
    "- Those vectors drawn as arrows are particular points - often called a *basis* or *spanning set of vectors* - over which we aim to efficiently represent every other point in the space.  \n",
    "\n",
    "\n",
    "- Those other vectors shown as dots are those points we wish to represent over our basis / spanning set."
   ]
  },
  {
   "cell_type": "markdown",
   "metadata": {
    "slideshow": {
     "slide_type": "subslide"
    }
   },
   "source": [
    "- Lets suppose our set of input points - our *dataset* - is written as  \\{$\\mathbf{x}_1,\\,\\mathbf{x}_2,\\,...,\\mathbf{x}_P\\}$ and lives in $N$ dimensions (that is, each point is $N$ dimensional). \n",
    "\n",
    "\n",
    "- Moreover throughout we will assume that our dataset has been *mean-centered* - a simple and completely reversible operation that involves subtracting off the mean of the dataset along each input dimension - so that it straddles the origin.\n",
    "\n",
    "\n",
    "- This sort of normalization is almost always done in practice, and is computationally inexpensive to execute. "
   ]
  },
  {
   "cell_type": "markdown",
   "metadata": {
    "slideshow": {
     "slide_type": "subslide"
    }
   },
   "source": [
    "- In order for our basis / spanning set to be capable of perfectly representing all $P$ of our points it too must live in the same $N$ dimensional space.  \n",
    "\n",
    "\n",
    "- For a candidate basis / spanning set $\\mathbf{c}_1,\\,\\mathbf{c}_2,...,\\mathbf{c}_N$ to be capable of perfectly representing such generic $N$ dimensional (input) data means...\n",
    "\n",
    "\n",
    "- ...that for each data point a set of weights exists so that, in particular linear combination, our basis set can match each data point as\n",
    "\n",
    "\\begin{equation}\n",
    "\\sum_{n=1}^N \\mathbf{c}_n w_{n,\\,p} = \\mathbf{x}_p  \\,\\,\\,\\,\\,\\,\\,\\,\\,\\,\\,\\,\\,\\,\\,\\,\\,\\,\\,\\,\\,\\,\\,\\, p=1...P.\n",
    "\\end{equation}"
   ]
  },
  {
   "cell_type": "markdown",
   "metadata": {
    "slideshow": {
     "slide_type": "subslide"
    }
   },
   "source": [
    "- Technically speaking in order for this possibility to exist our spanning set must be *linearly independent* \n",
    "\n",
    "\n",
    "- that is, the spanning vectors do not 'overlap', they point in completely different directions in the space."
   ]
  },
  {
   "cell_type": "markdown",
   "metadata": {
    "slideshow": {
     "slide_type": "subslide"
    }
   },
   "source": [
    "- As the simplest example imagine our spanning set was the set of $N$ *standard basis vectors*. The $n^{th}$ element of a standard basis takes the form of vectors that consist entirely of zeros, except for a $1$ in its $n^{th}$ slot\n",
    "\n",
    "\\begin{equation}\n",
    "\\text{($n^{th}$ element of the standard basis)}\\,\\,\\,\\,\\,\\,\\,\\, \\mathbf{c}_n = \n",
    "\\begin{bmatrix}\n",
    "0 \\\\ \n",
    "\\vdots \\\\\n",
    "0 \\\\\n",
    "1 \\\\\n",
    "0 \\\\\n",
    "\\vdots \\\\\n",
    "0\n",
    "\\end{bmatrix}.\n",
    "\\end{equation}"
   ]
  },
  {
   "cell_type": "markdown",
   "metadata": {
    "slideshow": {
     "slide_type": "subslide"
    }
   },
   "source": [
    "- To represent a data point $\\mathbf{x}_p$ over the standard basis is a trivial affair, and one can easily check that the perfect weights must be defined as\n",
    "\n",
    "\\begin{equation}\n",
    "w_{n,\\,p} = x_{n,\\,p}\n",
    "\\end{equation}\n",
    "\n",
    "- i.e., each weight is simply equal to the value of the data point we aim to represent.  \n",
    "\n",
    "\n",
    "- For most any other spanning set however these weights must be solved for numerically, which we frame in terms of a cost function minimization after the examples below."
   ]
  },
  {
   "cell_type": "markdown",
   "metadata": {
    "slideshow": {
     "slide_type": "subslide"
    }
   },
   "source": [
    "- If indeed the spanning set of vectors is linearly independent, then having properly tuned the weights of point $\\mathbf{x}_p$, denoted as the $N$ length vector\n",
    "\n",
    "\\begin{equation}\n",
    " \\mathbf{w}_p = \\begin{bmatrix}  w_{1,\\,p} \\\\ w_{2,\\,p} \\\\ \\vdots \\\\ w_{N,\\,p} \\end{bmatrix}\n",
    " \\end{equation}\n",
    "\n",
    "\n",
    "- This weight set provides the new representation of $\\mathbf{x}_p$ with respect to the spanning set. "
   ]
  },
  {
   "cell_type": "markdown",
   "metadata": {
    "slideshow": {
     "slide_type": "subslide"
    }
   },
   "source": [
    "\n",
    "- For example, in the trivial case where our spanning set consists of the standard basis our representation or feature vector $\\mathbf{w}_p = \\mathbf{x}_p$ is the data point itself!  \n",
    "\n",
    "\n",
    "- Otherwise $\\mathbf{w}_p$ - typically referred to as the new **encoding** of $\\mathbf{x}_p$* in the *transformed feature space* whose coordinate axes are defined by the spanning set - is a vector that differs from original data point. "
   ]
  },
  {
   "cell_type": "markdown",
   "metadata": {
    "slideshow": {
     "slide_type": "subslide"
    }
   },
   "source": [
    "<figure>\n",
    "  <img src= '../../mlrefined_images/unsupervised_images/feature_space_rep.png' width=\"110%\"  height=\"auto\" alt=\"\"/>\n",
    "  <figcaption>  <em> (left) A 2-d point, $\\mathbf{x}_1$, shown in the space spanned by vectors $\\mathbf{c}_1$ and $\\mathbf{c}_2$. (right) Representation, also known as the *encoding*, of $\\mathbf{x}_1$ in the transformed feature space. </em>  </figcaption> \n",
    "</figure>"
   ]
  },
  {
   "cell_type": "markdown",
   "metadata": {
    "slideshow": {
     "slide_type": "slide"
    }
   },
   "source": [
    "#### <span style=\"color:#a50e3e;\">Example. </span>  Perfect representation with complete spanning set in $N=2$ dimensions"
   ]
  },
  {
   "cell_type": "markdown",
   "metadata": {
    "slideshow": {
     "slide_type": "subslide"
    }
   },
   "source": [
    "- Lets examine an example of a spanning set of vectors in $N=2$ dimensions. \n",
    "\n",
    "\n",
    "- Below we run an animation showing how the set of two spanning vectors\n",
    "\n",
    "\\begin{equation}\n",
    "\\mathbf{c}_1 = \n",
    "\\begin{bmatrix}\n",
    "2 \\\\ \n",
    "1\n",
    "\\end{bmatrix}  \n",
    "\\,\\,\\,\\,\\,\\,\\,\\,\\,\\,\\,\\,\\,\\,\\,\\,\\,\\,\\,\\,\\,\n",
    "\\mathbf{c}_2 = \n",
    "\\begin{bmatrix}\n",
    "1\\\\\n",
    "2\n",
    "\\end{bmatrix}.\n",
    "\\end{equation}"
   ]
  },
  {
   "cell_type": "markdown",
   "metadata": {
    "slideshow": {
     "slide_type": "subslide"
    }
   },
   "source": [
    "- Because these two vectors are *linearly independent*.\n",
    "\n",
    "\n",
    "- That is they do not overlap completely and point in different directions in the space, we can perfectly represent any point in the space using some linear combination of them as \n",
    "\n",
    "\\begin{equation}\n",
    "w_{1,\\,p}\\mathbf{c}_1 + w_{2,\\,p}\\mathbf{c}_2 = \\mathbf{x}_p\n",
    "\\end{equation}\n",
    "\n",
    "\n",
    "- Here the weights $w_{1,\\,p}$ and $w_{2,\\,p}$ are unique to each point $\\mathbf{x}_p$.  "
   ]
  },
  {
   "cell_type": "markdown",
   "metadata": {
    "slideshow": {
     "slide_type": "subslide"
    }
   },
   "source": [
    "- Once properly tuned the weight vector $\\mathbf{w}_p = \\begin{bmatrix} w_{1,\\,p} \\\\ w_{2,\\,p} \\end{bmatrix} $ provides us with a new representation or encoding of $\\mathbf{x}_p$ in the transformed feature space whose coordinates are precisely our spanning set.\n",
    "\n",
    "\n",
    "- In the animation below we range show two panels - the original space in the left, and the transformed feature space in the right defined by the above spanning set.  \n",
    "\n",
    "\n",
    "- In each panel the two spanning set vectors $\\mathbf{c}_1$ and $\\mathbf{c}_2$ are shown as solid black arrows, and points $\\mathbf{x}_p$ (taken over a course range of the input space here) are shown as black dots.  "
   ]
  },
  {
   "cell_type": "markdown",
   "metadata": {
    "slideshow": {
     "slide_type": "subslide"
    }
   },
   "source": [
    "- Each point $\\mathbf{x}_p$ is shown simultaneously in the original and transformed feature space, where the point is *encoded* by its weight vector $\\mathbf{w}_p$.  \n",
    "\n",
    "\n",
    "- In each space the appropriate linear combination of the two spanning vectors required to represent the point is shown as a red arrow, and each scaled spanning vector is shown as a blue arrow. \n",
    "\n",
    "\n",
    "- As the slider is pushed from left to right additional points additional points are shown represented over the spanning set / encoded points in the transformed feature space."
   ]
  },
  {
   "cell_type": "code",
   "execution_count": 5,
   "metadata": {
    "scrolled": false,
    "slideshow": {
     "slide_type": "skip"
    }
   },
   "outputs": [],
   "source": [
    "# This code cell will not be shown in the HTML version of this notebook\n",
    "# animate a two-dimensional spanning set ranging over a coarse set of points in the space\n",
    "C = np.array([[2,1],[1,2]])\n",
    "savepath = 'videos/animation_1.mp4'\n",
    "unsuplib.span_animation.perfect_visualize_transform(savepath,C,num_frames = 200,fps=10)"
   ]
  },
  {
   "cell_type": "code",
   "execution_count": 4,
   "metadata": {
    "slideshow": {
     "slide_type": "subslide"
    }
   },
   "outputs": [
    {
     "data": {
      "text/html": [
       "\n",
       "<video width=\"1000\" height=\"400\" controls loop>\n",
       "  <source src=\"videos/animation_1.mp4\" type=\"video/mp4\">\n",
       "  </video>\n"
      ],
      "text/plain": [
       "<IPython.core.display.HTML object>"
      ]
     },
     "execution_count": 4,
     "metadata": {},
     "output_type": "execute_result"
    }
   ],
   "source": [
    "## This code cell will not be shown in the HTML version of this notebook\n",
    "# load video into notebook\n",
    "from IPython.display import HTML\n",
    "HTML(\"\"\"\n",
    "<video width=\"1000\" height=\"400\" controls loop>\n",
    "  <source src=\"videos/animation_1.mp4\" type=\"video/mp4\">\n",
    "  </video>\n",
    "\"\"\")"
   ]
  },
  {
   "cell_type": "markdown",
   "metadata": {
    "slideshow": {
     "slide_type": "subslide"
    }
   },
   "source": [
    "- Below we show how this spanning set transforms a prototypical dataset of 50 data points. "
   ]
  },
  {
   "cell_type": "code",
   "execution_count": 3,
   "metadata": {
    "slideshow": {
     "slide_type": "subslide"
    }
   },
   "outputs": [
    {
     "data": {
      "application/javascript": [
       "/* Put everything inside the global mpl namespace */\n",
       "window.mpl = {};\n",
       "\n",
       "\n",
       "mpl.get_websocket_type = function() {\n",
       "    if (typeof(WebSocket) !== 'undefined') {\n",
       "        return WebSocket;\n",
       "    } else if (typeof(MozWebSocket) !== 'undefined') {\n",
       "        return MozWebSocket;\n",
       "    } else {\n",
       "        alert('Your browser does not have WebSocket support.' +\n",
       "              'Please try Chrome, Safari or Firefox ≥ 6. ' +\n",
       "              'Firefox 4 and 5 are also supported but you ' +\n",
       "              'have to enable WebSockets in about:config.');\n",
       "    };\n",
       "}\n",
       "\n",
       "mpl.figure = function(figure_id, websocket, ondownload, parent_element) {\n",
       "    this.id = figure_id;\n",
       "\n",
       "    this.ws = websocket;\n",
       "\n",
       "    this.supports_binary = (this.ws.binaryType != undefined);\n",
       "\n",
       "    if (!this.supports_binary) {\n",
       "        var warnings = document.getElementById(\"mpl-warnings\");\n",
       "        if (warnings) {\n",
       "            warnings.style.display = 'block';\n",
       "            warnings.textContent = (\n",
       "                \"This browser does not support binary websocket messages. \" +\n",
       "                    \"Performance may be slow.\");\n",
       "        }\n",
       "    }\n",
       "\n",
       "    this.imageObj = new Image();\n",
       "\n",
       "    this.context = undefined;\n",
       "    this.message = undefined;\n",
       "    this.canvas = undefined;\n",
       "    this.rubberband_canvas = undefined;\n",
       "    this.rubberband_context = undefined;\n",
       "    this.format_dropdown = undefined;\n",
       "\n",
       "    this.image_mode = 'full';\n",
       "\n",
       "    this.root = $('<div/>');\n",
       "    this._root_extra_style(this.root)\n",
       "    this.root.attr('style', 'display: inline-block');\n",
       "\n",
       "    $(parent_element).append(this.root);\n",
       "\n",
       "    this._init_header(this);\n",
       "    this._init_canvas(this);\n",
       "    this._init_toolbar(this);\n",
       "\n",
       "    var fig = this;\n",
       "\n",
       "    this.waiting = false;\n",
       "\n",
       "    this.ws.onopen =  function () {\n",
       "            fig.send_message(\"supports_binary\", {value: fig.supports_binary});\n",
       "            fig.send_message(\"send_image_mode\", {});\n",
       "            if (mpl.ratio != 1) {\n",
       "                fig.send_message(\"set_dpi_ratio\", {'dpi_ratio': mpl.ratio});\n",
       "            }\n",
       "            fig.send_message(\"refresh\", {});\n",
       "        }\n",
       "\n",
       "    this.imageObj.onload = function() {\n",
       "            if (fig.image_mode == 'full') {\n",
       "                // Full images could contain transparency (where diff images\n",
       "                // almost always do), so we need to clear the canvas so that\n",
       "                // there is no ghosting.\n",
       "                fig.context.clearRect(0, 0, fig.canvas.width, fig.canvas.height);\n",
       "            }\n",
       "            fig.context.drawImage(fig.imageObj, 0, 0);\n",
       "        };\n",
       "\n",
       "    this.imageObj.onunload = function() {\n",
       "        this.ws.close();\n",
       "    }\n",
       "\n",
       "    this.ws.onmessage = this._make_on_message_function(this);\n",
       "\n",
       "    this.ondownload = ondownload;\n",
       "}\n",
       "\n",
       "mpl.figure.prototype._init_header = function() {\n",
       "    var titlebar = $(\n",
       "        '<div class=\"ui-dialog-titlebar ui-widget-header ui-corner-all ' +\n",
       "        'ui-helper-clearfix\"/>');\n",
       "    var titletext = $(\n",
       "        '<div class=\"ui-dialog-title\" style=\"width: 100%; ' +\n",
       "        'text-align: center; padding: 3px;\"/>');\n",
       "    titlebar.append(titletext)\n",
       "    this.root.append(titlebar);\n",
       "    this.header = titletext[0];\n",
       "}\n",
       "\n",
       "\n",
       "\n",
       "mpl.figure.prototype._canvas_extra_style = function(canvas_div) {\n",
       "\n",
       "}\n",
       "\n",
       "\n",
       "mpl.figure.prototype._root_extra_style = function(canvas_div) {\n",
       "\n",
       "}\n",
       "\n",
       "mpl.figure.prototype._init_canvas = function() {\n",
       "    var fig = this;\n",
       "\n",
       "    var canvas_div = $('<div/>');\n",
       "\n",
       "    canvas_div.attr('style', 'position: relative; clear: both; outline: 0');\n",
       "\n",
       "    function canvas_keyboard_event(event) {\n",
       "        return fig.key_event(event, event['data']);\n",
       "    }\n",
       "\n",
       "    canvas_div.keydown('key_press', canvas_keyboard_event);\n",
       "    canvas_div.keyup('key_release', canvas_keyboard_event);\n",
       "    this.canvas_div = canvas_div\n",
       "    this._canvas_extra_style(canvas_div)\n",
       "    this.root.append(canvas_div);\n",
       "\n",
       "    var canvas = $('<canvas/>');\n",
       "    canvas.addClass('mpl-canvas');\n",
       "    canvas.attr('style', \"left: 0; top: 0; z-index: 0; outline: 0\")\n",
       "\n",
       "    this.canvas = canvas[0];\n",
       "    this.context = canvas[0].getContext(\"2d\");\n",
       "\n",
       "    var backingStore = this.context.backingStorePixelRatio ||\n",
       "\tthis.context.webkitBackingStorePixelRatio ||\n",
       "\tthis.context.mozBackingStorePixelRatio ||\n",
       "\tthis.context.msBackingStorePixelRatio ||\n",
       "\tthis.context.oBackingStorePixelRatio ||\n",
       "\tthis.context.backingStorePixelRatio || 1;\n",
       "\n",
       "    mpl.ratio = (window.devicePixelRatio || 1) / backingStore;\n",
       "\n",
       "    var rubberband = $('<canvas/>');\n",
       "    rubberband.attr('style', \"position: absolute; left: 0; top: 0; z-index: 1;\")\n",
       "\n",
       "    var pass_mouse_events = true;\n",
       "\n",
       "    canvas_div.resizable({\n",
       "        start: function(event, ui) {\n",
       "            pass_mouse_events = false;\n",
       "        },\n",
       "        resize: function(event, ui) {\n",
       "            fig.request_resize(ui.size.width, ui.size.height);\n",
       "        },\n",
       "        stop: function(event, ui) {\n",
       "            pass_mouse_events = true;\n",
       "            fig.request_resize(ui.size.width, ui.size.height);\n",
       "        },\n",
       "    });\n",
       "\n",
       "    function mouse_event_fn(event) {\n",
       "        if (pass_mouse_events)\n",
       "            return fig.mouse_event(event, event['data']);\n",
       "    }\n",
       "\n",
       "    rubberband.mousedown('button_press', mouse_event_fn);\n",
       "    rubberband.mouseup('button_release', mouse_event_fn);\n",
       "    // Throttle sequential mouse events to 1 every 20ms.\n",
       "    rubberband.mousemove('motion_notify', mouse_event_fn);\n",
       "\n",
       "    rubberband.mouseenter('figure_enter', mouse_event_fn);\n",
       "    rubberband.mouseleave('figure_leave', mouse_event_fn);\n",
       "\n",
       "    canvas_div.on(\"wheel\", function (event) {\n",
       "        event = event.originalEvent;\n",
       "        event['data'] = 'scroll'\n",
       "        if (event.deltaY < 0) {\n",
       "            event.step = 1;\n",
       "        } else {\n",
       "            event.step = -1;\n",
       "        }\n",
       "        mouse_event_fn(event);\n",
       "    });\n",
       "\n",
       "    canvas_div.append(canvas);\n",
       "    canvas_div.append(rubberband);\n",
       "\n",
       "    this.rubberband = rubberband;\n",
       "    this.rubberband_canvas = rubberband[0];\n",
       "    this.rubberband_context = rubberband[0].getContext(\"2d\");\n",
       "    this.rubberband_context.strokeStyle = \"#000000\";\n",
       "\n",
       "    this._resize_canvas = function(width, height) {\n",
       "        // Keep the size of the canvas, canvas container, and rubber band\n",
       "        // canvas in synch.\n",
       "        canvas_div.css('width', width)\n",
       "        canvas_div.css('height', height)\n",
       "\n",
       "        canvas.attr('width', width * mpl.ratio);\n",
       "        canvas.attr('height', height * mpl.ratio);\n",
       "        canvas.attr('style', 'width: ' + width + 'px; height: ' + height + 'px;');\n",
       "\n",
       "        rubberband.attr('width', width);\n",
       "        rubberband.attr('height', height);\n",
       "    }\n",
       "\n",
       "    // Set the figure to an initial 600x600px, this will subsequently be updated\n",
       "    // upon first draw.\n",
       "    this._resize_canvas(600, 600);\n",
       "\n",
       "    // Disable right mouse context menu.\n",
       "    $(this.rubberband_canvas).bind(\"contextmenu\",function(e){\n",
       "        return false;\n",
       "    });\n",
       "\n",
       "    function set_focus () {\n",
       "        canvas.focus();\n",
       "        canvas_div.focus();\n",
       "    }\n",
       "\n",
       "    window.setTimeout(set_focus, 100);\n",
       "}\n",
       "\n",
       "mpl.figure.prototype._init_toolbar = function() {\n",
       "    var fig = this;\n",
       "\n",
       "    var nav_element = $('<div/>')\n",
       "    nav_element.attr('style', 'width: 100%');\n",
       "    this.root.append(nav_element);\n",
       "\n",
       "    // Define a callback function for later on.\n",
       "    function toolbar_event(event) {\n",
       "        return fig.toolbar_button_onclick(event['data']);\n",
       "    }\n",
       "    function toolbar_mouse_event(event) {\n",
       "        return fig.toolbar_button_onmouseover(event['data']);\n",
       "    }\n",
       "\n",
       "    for(var toolbar_ind in mpl.toolbar_items) {\n",
       "        var name = mpl.toolbar_items[toolbar_ind][0];\n",
       "        var tooltip = mpl.toolbar_items[toolbar_ind][1];\n",
       "        var image = mpl.toolbar_items[toolbar_ind][2];\n",
       "        var method_name = mpl.toolbar_items[toolbar_ind][3];\n",
       "\n",
       "        if (!name) {\n",
       "            // put a spacer in here.\n",
       "            continue;\n",
       "        }\n",
       "        var button = $('<button/>');\n",
       "        button.addClass('ui-button ui-widget ui-state-default ui-corner-all ' +\n",
       "                        'ui-button-icon-only');\n",
       "        button.attr('role', 'button');\n",
       "        button.attr('aria-disabled', 'false');\n",
       "        button.click(method_name, toolbar_event);\n",
       "        button.mouseover(tooltip, toolbar_mouse_event);\n",
       "\n",
       "        var icon_img = $('<span/>');\n",
       "        icon_img.addClass('ui-button-icon-primary ui-icon');\n",
       "        icon_img.addClass(image);\n",
       "        icon_img.addClass('ui-corner-all');\n",
       "\n",
       "        var tooltip_span = $('<span/>');\n",
       "        tooltip_span.addClass('ui-button-text');\n",
       "        tooltip_span.html(tooltip);\n",
       "\n",
       "        button.append(icon_img);\n",
       "        button.append(tooltip_span);\n",
       "\n",
       "        nav_element.append(button);\n",
       "    }\n",
       "\n",
       "    var fmt_picker_span = $('<span/>');\n",
       "\n",
       "    var fmt_picker = $('<select/>');\n",
       "    fmt_picker.addClass('mpl-toolbar-option ui-widget ui-widget-content');\n",
       "    fmt_picker_span.append(fmt_picker);\n",
       "    nav_element.append(fmt_picker_span);\n",
       "    this.format_dropdown = fmt_picker[0];\n",
       "\n",
       "    for (var ind in mpl.extensions) {\n",
       "        var fmt = mpl.extensions[ind];\n",
       "        var option = $(\n",
       "            '<option/>', {selected: fmt === mpl.default_extension}).html(fmt);\n",
       "        fmt_picker.append(option)\n",
       "    }\n",
       "\n",
       "    // Add hover states to the ui-buttons\n",
       "    $( \".ui-button\" ).hover(\n",
       "        function() { $(this).addClass(\"ui-state-hover\");},\n",
       "        function() { $(this).removeClass(\"ui-state-hover\");}\n",
       "    );\n",
       "\n",
       "    var status_bar = $('<span class=\"mpl-message\"/>');\n",
       "    nav_element.append(status_bar);\n",
       "    this.message = status_bar[0];\n",
       "}\n",
       "\n",
       "mpl.figure.prototype.request_resize = function(x_pixels, y_pixels) {\n",
       "    // Request matplotlib to resize the figure. Matplotlib will then trigger a resize in the client,\n",
       "    // which will in turn request a refresh of the image.\n",
       "    this.send_message('resize', {'width': x_pixels, 'height': y_pixels});\n",
       "}\n",
       "\n",
       "mpl.figure.prototype.send_message = function(type, properties) {\n",
       "    properties['type'] = type;\n",
       "    properties['figure_id'] = this.id;\n",
       "    this.ws.send(JSON.stringify(properties));\n",
       "}\n",
       "\n",
       "mpl.figure.prototype.send_draw_message = function() {\n",
       "    if (!this.waiting) {\n",
       "        this.waiting = true;\n",
       "        this.ws.send(JSON.stringify({type: \"draw\", figure_id: this.id}));\n",
       "    }\n",
       "}\n",
       "\n",
       "\n",
       "mpl.figure.prototype.handle_save = function(fig, msg) {\n",
       "    var format_dropdown = fig.format_dropdown;\n",
       "    var format = format_dropdown.options[format_dropdown.selectedIndex].value;\n",
       "    fig.ondownload(fig, format);\n",
       "}\n",
       "\n",
       "\n",
       "mpl.figure.prototype.handle_resize = function(fig, msg) {\n",
       "    var size = msg['size'];\n",
       "    if (size[0] != fig.canvas.width || size[1] != fig.canvas.height) {\n",
       "        fig._resize_canvas(size[0], size[1]);\n",
       "        fig.send_message(\"refresh\", {});\n",
       "    };\n",
       "}\n",
       "\n",
       "mpl.figure.prototype.handle_rubberband = function(fig, msg) {\n",
       "    var x0 = msg['x0'] / mpl.ratio;\n",
       "    var y0 = (fig.canvas.height - msg['y0']) / mpl.ratio;\n",
       "    var x1 = msg['x1'] / mpl.ratio;\n",
       "    var y1 = (fig.canvas.height - msg['y1']) / mpl.ratio;\n",
       "    x0 = Math.floor(x0) + 0.5;\n",
       "    y0 = Math.floor(y0) + 0.5;\n",
       "    x1 = Math.floor(x1) + 0.5;\n",
       "    y1 = Math.floor(y1) + 0.5;\n",
       "    var min_x = Math.min(x0, x1);\n",
       "    var min_y = Math.min(y0, y1);\n",
       "    var width = Math.abs(x1 - x0);\n",
       "    var height = Math.abs(y1 - y0);\n",
       "\n",
       "    fig.rubberband_context.clearRect(\n",
       "        0, 0, fig.canvas.width, fig.canvas.height);\n",
       "\n",
       "    fig.rubberband_context.strokeRect(min_x, min_y, width, height);\n",
       "}\n",
       "\n",
       "mpl.figure.prototype.handle_figure_label = function(fig, msg) {\n",
       "    // Updates the figure title.\n",
       "    fig.header.textContent = msg['label'];\n",
       "}\n",
       "\n",
       "mpl.figure.prototype.handle_cursor = function(fig, msg) {\n",
       "    var cursor = msg['cursor'];\n",
       "    switch(cursor)\n",
       "    {\n",
       "    case 0:\n",
       "        cursor = 'pointer';\n",
       "        break;\n",
       "    case 1:\n",
       "        cursor = 'default';\n",
       "        break;\n",
       "    case 2:\n",
       "        cursor = 'crosshair';\n",
       "        break;\n",
       "    case 3:\n",
       "        cursor = 'move';\n",
       "        break;\n",
       "    }\n",
       "    fig.rubberband_canvas.style.cursor = cursor;\n",
       "}\n",
       "\n",
       "mpl.figure.prototype.handle_message = function(fig, msg) {\n",
       "    fig.message.textContent = msg['message'];\n",
       "}\n",
       "\n",
       "mpl.figure.prototype.handle_draw = function(fig, msg) {\n",
       "    // Request the server to send over a new figure.\n",
       "    fig.send_draw_message();\n",
       "}\n",
       "\n",
       "mpl.figure.prototype.handle_image_mode = function(fig, msg) {\n",
       "    fig.image_mode = msg['mode'];\n",
       "}\n",
       "\n",
       "mpl.figure.prototype.updated_canvas_event = function() {\n",
       "    // Called whenever the canvas gets updated.\n",
       "    this.send_message(\"ack\", {});\n",
       "}\n",
       "\n",
       "// A function to construct a web socket function for onmessage handling.\n",
       "// Called in the figure constructor.\n",
       "mpl.figure.prototype._make_on_message_function = function(fig) {\n",
       "    return function socket_on_message(evt) {\n",
       "        if (evt.data instanceof Blob) {\n",
       "            /* FIXME: We get \"Resource interpreted as Image but\n",
       "             * transferred with MIME type text/plain:\" errors on\n",
       "             * Chrome.  But how to set the MIME type?  It doesn't seem\n",
       "             * to be part of the websocket stream */\n",
       "            evt.data.type = \"image/png\";\n",
       "\n",
       "            /* Free the memory for the previous frames */\n",
       "            if (fig.imageObj.src) {\n",
       "                (window.URL || window.webkitURL).revokeObjectURL(\n",
       "                    fig.imageObj.src);\n",
       "            }\n",
       "\n",
       "            fig.imageObj.src = (window.URL || window.webkitURL).createObjectURL(\n",
       "                evt.data);\n",
       "            fig.updated_canvas_event();\n",
       "            fig.waiting = false;\n",
       "            return;\n",
       "        }\n",
       "        else if (typeof evt.data === 'string' && evt.data.slice(0, 21) == \"data:image/png;base64\") {\n",
       "            fig.imageObj.src = evt.data;\n",
       "            fig.updated_canvas_event();\n",
       "            fig.waiting = false;\n",
       "            return;\n",
       "        }\n",
       "\n",
       "        var msg = JSON.parse(evt.data);\n",
       "        var msg_type = msg['type'];\n",
       "\n",
       "        // Call the  \"handle_{type}\" callback, which takes\n",
       "        // the figure and JSON message as its only arguments.\n",
       "        try {\n",
       "            var callback = fig[\"handle_\" + msg_type];\n",
       "        } catch (e) {\n",
       "            console.log(\"No handler for the '\" + msg_type + \"' message type: \", msg);\n",
       "            return;\n",
       "        }\n",
       "\n",
       "        if (callback) {\n",
       "            try {\n",
       "                // console.log(\"Handling '\" + msg_type + \"' message: \", msg);\n",
       "                callback(fig, msg);\n",
       "            } catch (e) {\n",
       "                console.log(\"Exception inside the 'handler_\" + msg_type + \"' callback:\", e, e.stack, msg);\n",
       "            }\n",
       "        }\n",
       "    };\n",
       "}\n",
       "\n",
       "// from http://stackoverflow.com/questions/1114465/getting-mouse-location-in-canvas\n",
       "mpl.findpos = function(e) {\n",
       "    //this section is from http://www.quirksmode.org/js/events_properties.html\n",
       "    var targ;\n",
       "    if (!e)\n",
       "        e = window.event;\n",
       "    if (e.target)\n",
       "        targ = e.target;\n",
       "    else if (e.srcElement)\n",
       "        targ = e.srcElement;\n",
       "    if (targ.nodeType == 3) // defeat Safari bug\n",
       "        targ = targ.parentNode;\n",
       "\n",
       "    // jQuery normalizes the pageX and pageY\n",
       "    // pageX,Y are the mouse positions relative to the document\n",
       "    // offset() returns the position of the element relative to the document\n",
       "    var x = e.pageX - $(targ).offset().left;\n",
       "    var y = e.pageY - $(targ).offset().top;\n",
       "\n",
       "    return {\"x\": x, \"y\": y};\n",
       "};\n",
       "\n",
       "/*\n",
       " * return a copy of an object with only non-object keys\n",
       " * we need this to avoid circular references\n",
       " * http://stackoverflow.com/a/24161582/3208463\n",
       " */\n",
       "function simpleKeys (original) {\n",
       "  return Object.keys(original).reduce(function (obj, key) {\n",
       "    if (typeof original[key] !== 'object')\n",
       "        obj[key] = original[key]\n",
       "    return obj;\n",
       "  }, {});\n",
       "}\n",
       "\n",
       "mpl.figure.prototype.mouse_event = function(event, name) {\n",
       "    var canvas_pos = mpl.findpos(event)\n",
       "\n",
       "    if (name === 'button_press')\n",
       "    {\n",
       "        this.canvas.focus();\n",
       "        this.canvas_div.focus();\n",
       "    }\n",
       "\n",
       "    var x = canvas_pos.x * mpl.ratio;\n",
       "    var y = canvas_pos.y * mpl.ratio;\n",
       "\n",
       "    this.send_message(name, {x: x, y: y, button: event.button,\n",
       "                             step: event.step,\n",
       "                             guiEvent: simpleKeys(event)});\n",
       "\n",
       "    /* This prevents the web browser from automatically changing to\n",
       "     * the text insertion cursor when the button is pressed.  We want\n",
       "     * to control all of the cursor setting manually through the\n",
       "     * 'cursor' event from matplotlib */\n",
       "    event.preventDefault();\n",
       "    return false;\n",
       "}\n",
       "\n",
       "mpl.figure.prototype._key_event_extra = function(event, name) {\n",
       "    // Handle any extra behaviour associated with a key event\n",
       "}\n",
       "\n",
       "mpl.figure.prototype.key_event = function(event, name) {\n",
       "\n",
       "    // Prevent repeat events\n",
       "    if (name == 'key_press')\n",
       "    {\n",
       "        if (event.which === this._key)\n",
       "            return;\n",
       "        else\n",
       "            this._key = event.which;\n",
       "    }\n",
       "    if (name == 'key_release')\n",
       "        this._key = null;\n",
       "\n",
       "    var value = '';\n",
       "    if (event.ctrlKey && event.which != 17)\n",
       "        value += \"ctrl+\";\n",
       "    if (event.altKey && event.which != 18)\n",
       "        value += \"alt+\";\n",
       "    if (event.shiftKey && event.which != 16)\n",
       "        value += \"shift+\";\n",
       "\n",
       "    value += 'k';\n",
       "    value += event.which.toString();\n",
       "\n",
       "    this._key_event_extra(event, name);\n",
       "\n",
       "    this.send_message(name, {key: value,\n",
       "                             guiEvent: simpleKeys(event)});\n",
       "    return false;\n",
       "}\n",
       "\n",
       "mpl.figure.prototype.toolbar_button_onclick = function(name) {\n",
       "    if (name == 'download') {\n",
       "        this.handle_save(this, null);\n",
       "    } else {\n",
       "        this.send_message(\"toolbar_button\", {name: name});\n",
       "    }\n",
       "};\n",
       "\n",
       "mpl.figure.prototype.toolbar_button_onmouseover = function(tooltip) {\n",
       "    this.message.textContent = tooltip;\n",
       "};\n",
       "mpl.toolbar_items = [[\"Home\", \"Reset original view\", \"fa fa-home icon-home\", \"home\"], [\"Back\", \"Back to  previous view\", \"fa fa-arrow-left icon-arrow-left\", \"back\"], [\"Forward\", \"Forward to next view\", \"fa fa-arrow-right icon-arrow-right\", \"forward\"], [\"\", \"\", \"\", \"\"], [\"Pan\", \"Pan axes with left mouse, zoom with right\", \"fa fa-arrows icon-move\", \"pan\"], [\"Zoom\", \"Zoom to rectangle\", \"fa fa-square-o icon-check-empty\", \"zoom\"], [\"\", \"\", \"\", \"\"], [\"Download\", \"Download plot\", \"fa fa-floppy-o icon-save\", \"download\"]];\n",
       "\n",
       "mpl.extensions = [\"eps\", \"jpeg\", \"pdf\", \"png\", \"ps\", \"raw\", \"svg\", \"tif\"];\n",
       "\n",
       "mpl.default_extension = \"png\";var comm_websocket_adapter = function(comm) {\n",
       "    // Create a \"websocket\"-like object which calls the given IPython comm\n",
       "    // object with the appropriate methods. Currently this is a non binary\n",
       "    // socket, so there is still some room for performance tuning.\n",
       "    var ws = {};\n",
       "\n",
       "    ws.close = function() {\n",
       "        comm.close()\n",
       "    };\n",
       "    ws.send = function(m) {\n",
       "        //console.log('sending', m);\n",
       "        comm.send(m);\n",
       "    };\n",
       "    // Register the callback with on_msg.\n",
       "    comm.on_msg(function(msg) {\n",
       "        //console.log('receiving', msg['content']['data'], msg);\n",
       "        // Pass the mpl event to the overriden (by mpl) onmessage function.\n",
       "        ws.onmessage(msg['content']['data'])\n",
       "    });\n",
       "    return ws;\n",
       "}\n",
       "\n",
       "mpl.mpl_figure_comm = function(comm, msg) {\n",
       "    // This is the function which gets called when the mpl process\n",
       "    // starts-up an IPython Comm through the \"matplotlib\" channel.\n",
       "\n",
       "    var id = msg.content.data.id;\n",
       "    // Get hold of the div created by the display call when the Comm\n",
       "    // socket was opened in Python.\n",
       "    var element = $(\"#\" + id);\n",
       "    var ws_proxy = comm_websocket_adapter(comm)\n",
       "\n",
       "    function ondownload(figure, format) {\n",
       "        window.open(figure.imageObj.src);\n",
       "    }\n",
       "\n",
       "    var fig = new mpl.figure(id, ws_proxy,\n",
       "                           ondownload,\n",
       "                           element.get(0));\n",
       "\n",
       "    // Call onopen now - mpl needs it, as it is assuming we've passed it a real\n",
       "    // web socket which is closed, not our websocket->open comm proxy.\n",
       "    ws_proxy.onopen();\n",
       "\n",
       "    fig.parent_element = element.get(0);\n",
       "    fig.cell_info = mpl.find_output_cell(\"<div id='\" + id + \"'></div>\");\n",
       "    if (!fig.cell_info) {\n",
       "        console.error(\"Failed to find cell for figure\", id, fig);\n",
       "        return;\n",
       "    }\n",
       "\n",
       "    var output_index = fig.cell_info[2]\n",
       "    var cell = fig.cell_info[0];\n",
       "\n",
       "};\n",
       "\n",
       "mpl.figure.prototype.handle_close = function(fig, msg) {\n",
       "    var width = fig.canvas.width/mpl.ratio\n",
       "    fig.root.unbind('remove')\n",
       "\n",
       "    // Update the output cell to use the data from the current canvas.\n",
       "    fig.push_to_output();\n",
       "    var dataURL = fig.canvas.toDataURL();\n",
       "    // Re-enable the keyboard manager in IPython - without this line, in FF,\n",
       "    // the notebook keyboard shortcuts fail.\n",
       "    IPython.keyboard_manager.enable()\n",
       "    $(fig.parent_element).html('<img src=\"' + dataURL + '\" width=\"' + width + '\">');\n",
       "    fig.close_ws(fig, msg);\n",
       "}\n",
       "\n",
       "mpl.figure.prototype.close_ws = function(fig, msg){\n",
       "    fig.send_message('closing', msg);\n",
       "    // fig.ws.close()\n",
       "}\n",
       "\n",
       "mpl.figure.prototype.push_to_output = function(remove_interactive) {\n",
       "    // Turn the data on the canvas into data in the output cell.\n",
       "    var width = this.canvas.width/mpl.ratio\n",
       "    var dataURL = this.canvas.toDataURL();\n",
       "    this.cell_info[1]['text/html'] = '<img src=\"' + dataURL + '\" width=\"' + width + '\">';\n",
       "}\n",
       "\n",
       "mpl.figure.prototype.updated_canvas_event = function() {\n",
       "    // Tell IPython that the notebook contents must change.\n",
       "    IPython.notebook.set_dirty(true);\n",
       "    this.send_message(\"ack\", {});\n",
       "    var fig = this;\n",
       "    // Wait a second, then push the new image to the DOM so\n",
       "    // that it is saved nicely (might be nice to debounce this).\n",
       "    setTimeout(function () { fig.push_to_output() }, 1000);\n",
       "}\n",
       "\n",
       "mpl.figure.prototype._init_toolbar = function() {\n",
       "    var fig = this;\n",
       "\n",
       "    var nav_element = $('<div/>')\n",
       "    nav_element.attr('style', 'width: 100%');\n",
       "    this.root.append(nav_element);\n",
       "\n",
       "    // Define a callback function for later on.\n",
       "    function toolbar_event(event) {\n",
       "        return fig.toolbar_button_onclick(event['data']);\n",
       "    }\n",
       "    function toolbar_mouse_event(event) {\n",
       "        return fig.toolbar_button_onmouseover(event['data']);\n",
       "    }\n",
       "\n",
       "    for(var toolbar_ind in mpl.toolbar_items){\n",
       "        var name = mpl.toolbar_items[toolbar_ind][0];\n",
       "        var tooltip = mpl.toolbar_items[toolbar_ind][1];\n",
       "        var image = mpl.toolbar_items[toolbar_ind][2];\n",
       "        var method_name = mpl.toolbar_items[toolbar_ind][3];\n",
       "\n",
       "        if (!name) { continue; };\n",
       "\n",
       "        var button = $('<button class=\"btn btn-default\" href=\"#\" title=\"' + name + '\"><i class=\"fa ' + image + ' fa-lg\"></i></button>');\n",
       "        button.click(method_name, toolbar_event);\n",
       "        button.mouseover(tooltip, toolbar_mouse_event);\n",
       "        nav_element.append(button);\n",
       "    }\n",
       "\n",
       "    // Add the status bar.\n",
       "    var status_bar = $('<span class=\"mpl-message\" style=\"text-align:right; float: right;\"/>');\n",
       "    nav_element.append(status_bar);\n",
       "    this.message = status_bar[0];\n",
       "\n",
       "    // Add the close button to the window.\n",
       "    var buttongrp = $('<div class=\"btn-group inline pull-right\"></div>');\n",
       "    var button = $('<button class=\"btn btn-mini btn-primary\" href=\"#\" title=\"Stop Interaction\"><i class=\"fa fa-power-off icon-remove icon-large\"></i></button>');\n",
       "    button.click(function (evt) { fig.handle_close(fig, {}); } );\n",
       "    button.mouseover('Stop Interaction', toolbar_mouse_event);\n",
       "    buttongrp.append(button);\n",
       "    var titlebar = this.root.find($('.ui-dialog-titlebar'));\n",
       "    titlebar.prepend(buttongrp);\n",
       "}\n",
       "\n",
       "mpl.figure.prototype._root_extra_style = function(el){\n",
       "    var fig = this\n",
       "    el.on(\"remove\", function(){\n",
       "\tfig.close_ws(fig, {});\n",
       "    });\n",
       "}\n",
       "\n",
       "mpl.figure.prototype._canvas_extra_style = function(el){\n",
       "    // this is important to make the div 'focusable\n",
       "    el.attr('tabindex', 0)\n",
       "    // reach out to IPython and tell the keyboard manager to turn it's self\n",
       "    // off when our div gets focus\n",
       "\n",
       "    // location in version 3\n",
       "    if (IPython.notebook.keyboard_manager) {\n",
       "        IPython.notebook.keyboard_manager.register_events(el);\n",
       "    }\n",
       "    else {\n",
       "        // location in version 2\n",
       "        IPython.keyboard_manager.register_events(el);\n",
       "    }\n",
       "\n",
       "}\n",
       "\n",
       "mpl.figure.prototype._key_event_extra = function(event, name) {\n",
       "    var manager = IPython.notebook.keyboard_manager;\n",
       "    if (!manager)\n",
       "        manager = IPython.keyboard_manager;\n",
       "\n",
       "    // Check for shift+enter\n",
       "    if (event.shiftKey && event.which == 13) {\n",
       "        this.canvas_div.blur();\n",
       "        // select the cell after this one\n",
       "        var index = IPython.notebook.find_cell_index(this.cell_info[0]);\n",
       "        IPython.notebook.select(index + 1);\n",
       "    }\n",
       "}\n",
       "\n",
       "mpl.figure.prototype.handle_save = function(fig, msg) {\n",
       "    fig.ondownload(fig, null);\n",
       "}\n",
       "\n",
       "\n",
       "mpl.find_output_cell = function(html_output) {\n",
       "    // Return the cell and output element which can be found *uniquely* in the notebook.\n",
       "    // Note - this is a bit hacky, but it is done because the \"notebook_saving.Notebook\"\n",
       "    // IPython event is triggered only after the cells have been serialised, which for\n",
       "    // our purposes (turning an active figure into a static one), is too late.\n",
       "    var cells = IPython.notebook.get_cells();\n",
       "    var ncells = cells.length;\n",
       "    for (var i=0; i<ncells; i++) {\n",
       "        var cell = cells[i];\n",
       "        if (cell.cell_type === 'code'){\n",
       "            for (var j=0; j<cell.output_area.outputs.length; j++) {\n",
       "                var data = cell.output_area.outputs[j];\n",
       "                if (data.data) {\n",
       "                    // IPython >= 3 moved mimebundle to data attribute of output\n",
       "                    data = data.data;\n",
       "                }\n",
       "                if (data['text/html'] == html_output) {\n",
       "                    return [cell, data, j];\n",
       "                }\n",
       "            }\n",
       "        }\n",
       "    }\n",
       "}\n",
       "\n",
       "// Register the function which deals with the matplotlib target/channel.\n",
       "// The kernel may be null if the page has been refreshed.\n",
       "if (IPython.notebook.kernel != null) {\n",
       "    IPython.notebook.kernel.comm_manager.register_target('matplotlib', mpl.mpl_figure_comm);\n",
       "}\n"
      ],
      "text/plain": [
       "<IPython.core.display.Javascript object>"
      ]
     },
     "metadata": {},
     "output_type": "display_data"
    },
    {
     "data": {
      "text/html": [
       "<img src=\"data:image/png;base64,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\" width=\"999.7333333333333\">"
      ],
      "text/plain": [
       "<IPython.core.display.HTML object>"
      ]
     },
     "metadata": {},
     "output_type": "display_data"
    }
   ],
   "source": [
    "# This code cell will not be shown in the HTML version of this notebook\n",
    "def center(X):\n",
    "    '''\n",
    "    A function for normalizing each feaure dimension of an input array, mean-centering\n",
    "    and division by its standard deviation\n",
    "    \n",
    "    '''\n",
    "    X_means = np.mean(X,axis=1)[:,np.newaxis]\n",
    "    X_normalized = X - X_means\n",
    "\n",
    "    return X_normalized\n",
    "\n",
    "# load in dataset to perform PCA on\n",
    "X_original = np.loadtxt(datapath + '2d_span_data.csv',delimiter=',')\n",
    "\n",
    "# center data\n",
    "X = center(X_original)\n",
    "\n",
    "# plot data and spanning set, and tranformed version\n",
    "C = np.array([[2,1],[1,2]])\n",
    "unsuplib.span_animation.perfect_visualize_transform_static(C,X=X)"
   ]
  },
  {
   "cell_type": "markdown",
   "metadata": {
    "slideshow": {
     "slide_type": "slide"
    }
   },
   "source": [
    "- One way we can solve for the proper weights is by setting up / minimizing an appropriate cost function.  \n",
    "\n",
    "\n",
    "- It is natural (as in our development of e.g., linear regression) to square the difference between both sides of equation (1) as $\\left(\\sum_{n=1}^N \\mathbf{c}_n w_{p,n} - \\mathbf{x}_p\\right)^2$ \n",
    "\n",
    "\n",
    "- We then tune the corresponding weights to make this squared error as small as possible. "
   ]
  },
  {
   "cell_type": "markdown",
   "metadata": {
    "slideshow": {
     "slide_type": "subslide"
    }
   },
   "source": [
    "\n",
    "\n",
    "- So for each data point $\\mathbf{x}_p$ we have a cost function \n",
    "\n",
    "\\begin{equation}\n",
    "g\\left(w_{1,\\,p},...,w_{N,\\,p}\\right) = \\left(\\sum_{n=1}^N \\mathbf{c}_n w_{n,\\,p} - \\mathbf{x}_p\\right)^2  \\,\\,\\,\\,\\,\\,\\,\\,\\,\\,\\,\\,\\,\\,\\,\\,\\,\\,\\,\\,\\,\\,\\,\\, p=1...P\n",
    "\\end{equation}\n",
    "\n",
    "\n",
    "- When minimized appropriately provides us with a proper set of parameters for representing $\\mathbf{x}_p$ over the spanning set. \n",
    "\n",
    "\n",
    "- While we could certainly use an iterative method like gradient descent to minimize this single-point cost, here we can in fact directly setup and solve the [first order system](https://jermwatt.github.io/mlrefined/blog_posts/Computational_Calculus/Part_13_unconstrained_optimality_conditions.html) of equations."
   ]
  },
  {
   "cell_type": "markdown",
   "metadata": {
    "slideshow": {
     "slide_type": "subslide"
    }
   },
   "source": [
    "\n",
    "- It isperhaps easiest to see this by writing the above cost function more compactly as\n",
    "\n",
    "\\begin{equation}\n",
    "h\\left(\\mathbf{w}_p\\right) = \\left \\Vert \\mathbf{C}\\mathbf{w}_p - \\mathbf{x}_p \\right\\Vert_2^2.\n",
    "\\end{equation}\n",
    "\n",
    "\n",
    "- Here the $N\\times N$ matrix $\\mathbf{C}$ is formed by stacking the spanning set vectors column-wise, and the $N\\times 1$ vectors $\\mathbf{w}_p$ as \n",
    "\n",
    "\\begin{equation}\n",
    "\\mathbf{C} = \n",
    "\\begin{bmatrix}\n",
    "\\vert \\,\\,\\,\\,\\, \\vert \\,\\,\\, \\cdots  \\, \\vert \\\\\n",
    "\\mathbf{c}_1 \\,\\,\\, \\mathbf{c}_2 \\,\\,\\,\\,\\,\\, \\mathbf{c}_N \\\\\n",
    "\\vert \\,\\,\\,\\,\\, \\vert \\,\\,\\, \\cdots  \\, \\vert \n",
    "\\end{bmatrix}\n",
    "\\,\\,\\,\\,\\,\\,\\,\\,\\,\\,\\, \n",
    "\\mathbf{w}_p = \n",
    "\\begin{bmatrix}\n",
    " w_{p,1} \\\\\n",
    " w_{p,2} \\\\\n",
    " \\vdots  \\\\\n",
    " w_{p,N}\n",
    "\\end{bmatrix}\n",
    "\\end{equation}"
   ]
  },
  {
   "cell_type": "markdown",
   "metadata": {
    "slideshow": {
     "slide_type": "subslide"
    }
   },
   "source": [
    "- Now setting the gradient of the cost function to zero and solving for $\\mathbf{w}_p$ gives the linear symmetric system of equations for each $\\mathbf{w}_p$\n",
    "\n",
    "\n",
    "- which we can conveniently write algebraically as \n",
    "\n",
    "\\begin{equation}\n",
    "\\mathbf{C}^T\\mathbf{C}^{\\,}\\mathbf{w}_p = \\mathbf{C}^T\\mathbf{x}_p \\,\\,\\,\\,\\,\\,\\,\\,\\,\\,\\,\\,\\,\\,\\,\\,\\,\\,\\,\\,\\,\\,\\,\\, p=1...P.\n",
    "\\end{equation}"
   ]
  },
  {
   "cell_type": "markdown",
   "metadata": {
    "slideshow": {
     "slide_type": "subslide"
    }
   },
   "source": [
    "- Numerically this sort of symmetric system of equations can be solved via e.g., coordinate descent. \n",
    "\n",
    "\n",
    "- Once these are solved for - and we have our learned weights $\\hat{\\mathbf{w}}_p$ -  we can then perfectly represent a point $\\mathbf{x}_p$ over the spanning set as we desired in equation (1) as \n",
    "\n",
    "\\begin{equation}\n",
    "\\mathbf{C}\\hat{\\mathbf{w}}_p  = \\sum_{n=1}^N \\mathbf{c}_n \\hat{w}_{n,\\,p} = \\mathbf{x}_p.\n",
    "\\end{equation}"
   ]
  },
  {
   "cell_type": "markdown",
   "metadata": {
    "slideshow": {
     "slide_type": "subslide"
    }
   },
   "source": [
    "- Notice here that we can take the average of the individual single-point cost functions in equation (4) / (5), giving a cost function over the entire dataset\n",
    "\n",
    "\\begin{equation}\n",
    "g\\left(\\mathbf{w}_1,...,\\mathbf{w}_P\\right) = \\frac{1}{P}\\sum_{p = 1}^P \\left \\Vert \\mathbf{C}\\mathbf{w}_p - \\mathbf{x}_p \\right\\Vert_2^2.\n",
    "\\end{equation}\n",
    "\n",
    "- This is just a convenient way of writing out the entire list of $P$ single-point cost functions together\n",
    "\n",
    "\n",
    "- i.e., we get no new solution methods by doing this, as the joint cost decomposes over the weight vectors $\\mathbf{w}_p$.  "
   ]
  },
  {
   "cell_type": "markdown",
   "metadata": {
    "slideshow": {
     "slide_type": "subslide"
    }
   },
   "source": [
    "\n",
    "\n",
    "- Formally then our optimization problem to recover all of the proper weight vectors can be expressed as\n",
    "\n",
    "\\begin{equation}\n",
    "\\underset{\\mathbf{w}_1,\\mathbf{w}_2,...,\\mathbf{w}_P}{\\text{minimize}} \\,\\, \\frac{1}{P}\\sum_{p = 1}^P \\left \\Vert \\mathbf{C}\\mathbf{w}_p - \\mathbf{x}_p \\right\\Vert_2^2.\n",
    "\\end{equation}"
   ]
  },
  {
   "cell_type": "markdown",
   "metadata": {
    "slideshow": {
     "slide_type": "slide"
    }
   },
   "source": [
    "##  Perfect representation using a fixed orthonormal spanning set"
   ]
  },
  {
   "cell_type": "markdown",
   "metadata": {
    "slideshow": {
     "slide_type": "subslide"
    }
   },
   "source": [
    "- A very special kind of basis / spanning set one often sees when representing data points is one whose elements are *perpendicular* and *unit length*.  \n",
    "\n",
    "\n",
    "- Such a spanning set $\\mathbf{c}_1,\\,\\mathbf{c}_2,\\,...\\,\\mathbf{c}_N$ is one that spans an entire space, but whose elements are perpendicular have length one. \n",
    "\n",
    "\n",
    "- Algebraically this is written as \n",
    "\n",
    "\\begin{array}\n",
    "\\\n",
    "\\mathbf{c}_n^T\\mathbf{c}_m^{\\,} = 0 \\\\\n",
    "\\left \\Vert \\mathbf{c}_n \\right \\Vert_2^2 = 1 \\,\\,\\,\\,\\text{for}\\,\\,n=1...N.\n",
    "\\end{array}"
   ]
  },
  {
   "cell_type": "markdown",
   "metadata": {
    "slideshow": {
     "slide_type": "subslide"
    }
   },
   "source": [
    "- Note that the same constraints expressed in terms of the concatenated basis matrix $\\mathbf{C}$ can be written compactly as \n",
    "\n",
    "\\begin{equation}\n",
    "\\mathbf{C}^T\\mathbf{C}^{\\,} = \\mathbf{I}_{N\\times N}.\n",
    "\\end{equation}\n",
    "\n",
    "- Often such a spanning sets are likewise referred to as *orthonormal* or - sometimes - *orthogonal*\n",
    "\n",
    "\n",
    "- Technically speaking the latter term should only be applied when a set of vectors consists of perpendicular elements that are not necessarily unit-length, it is unfortunately often used to refer to unit-length perpendicular vectors as well.  "
   ]
  },
  {
   "cell_type": "markdown",
   "metadata": {
    "slideshow": {
     "slide_type": "slide"
    }
   },
   "source": [
    "#### <span style=\"color:#a50e3e;\">Example. </span>  Standard basis"
   ]
  },
  {
   "cell_type": "markdown",
   "metadata": {
    "slideshow": {
     "slide_type": "subslide"
    }
   },
   "source": [
    "- The *standard basis* discussed above the most common example of an *orthogonal* basis - one whose elements are perpendicular and are unit-length.  \n",
    "\n",
    "\n",
    "- In the next cell we show a fine range of linear combinations of the standard basis in $N=2$ dimensions.  \n",
    "\n",
    "\n",
    "- As with any spanning set / basis, linear combinations of these two vectors can perfectly represent any point in the space."
   ]
  },
  {
   "cell_type": "code",
   "execution_count": 7,
   "metadata": {
    "slideshow": {
     "slide_type": "skip"
    }
   },
   "outputs": [],
   "source": [
    "# This code cell will not be shown in the HTML version of this notebook\n",
    "# animate a two-dimensional spanning set ranging over a coarse set of points in the space\n",
    "C = np.array([[1,0],[0,1]])\n",
    "savepath = 'videos/animation_2.mp4'\n",
    "linlib.span_animation.perfect_visualize(savepath,C,num_frames = 200,fps=10)"
   ]
  },
  {
   "cell_type": "code",
   "execution_count": 8,
   "metadata": {
    "slideshow": {
     "slide_type": "subslide"
    }
   },
   "outputs": [
    {
     "data": {
      "text/html": [
       "\n",
       "<video width=\"1000\" height=\"400\" controls loop>\n",
       "  <source src=\"videos/animation_2.mp4\" type=\"video/mp4\">\n",
       "  </video>\n"
      ],
      "text/plain": [
       "<IPython.core.display.HTML object>"
      ]
     },
     "execution_count": 8,
     "metadata": {},
     "output_type": "execute_result"
    }
   ],
   "source": [
    "## This code cell will not be shown in the HTML version of this notebook\n",
    "# load video into notebook\n",
    "from IPython.display import HTML\n",
    "HTML(\"\"\"\n",
    "<video width=\"1000\" height=\"400\" controls loop>\n",
    "  <source src=\"videos/animation_2.mp4\" type=\"video/mp4\">\n",
    "  </video>\n",
    "\"\"\")"
   ]
  },
  {
   "cell_type": "markdown",
   "metadata": {
    "slideshow": {
     "slide_type": "slide"
    }
   },
   "source": [
    "- Lets express the particular weights over which a dataset of $P$ points is represented over an orthonormal basis.\n",
    "\n",
    "\n",
    "- Thus the \"system of equations\" providing the ideal weight vector or *encoding* $\\mathbf{w}_p$ for each data point $\\mathbf{x}_p$ over an orthonormal basis of vectors is given simply by \n",
    "\n",
    "\\begin{equation}\n",
    "\\mathbf{w}_p = \\mathbf{C}^T\\mathbf{x}_p      \\,\\,\\,\\,\\,\\,\\,\\,\\,\\,\\,\\,\\,\\,\\,\\,\\,\\,\\,\\,\\,\\,\\,\\, p = 1...P.\n",
    "\\end{equation} "
   ]
  },
  {
   "cell_type": "markdown",
   "metadata": {
    "slideshow": {
     "slide_type": "subslide"
    }
   },
   "source": [
    "- In other words, if a basis / spanning set is orthonormal there is no system of equations left to solve for - we get the solution / encoded version $\\mathbf{w}_p$ of each point $\\mathbf{x}_p$ directly as a simple inner product of the spanning set against each data point!  \n",
    "\n",
    "\n",
    "- Practically speaking this means that computing the weight vector or encoding $\\mathbf{w}_p$ of a point $\\mathbf{x}_p$ is considerably cheaper if our spanning set is orthonormal."
   ]
  },
  {
   "cell_type": "markdown",
   "metadata": {
    "slideshow": {
     "slide_type": "subslide"
    }
   },
   "source": [
    "\n",
    "- Note further how here how we can - with these ideal weights solved for - express our data representation over an orthonormal spanning set in equation (1) very nicely in vector / matrix notation as\n",
    "\n",
    "\\begin{equation}\n",
    "\\mathbf{C}\\,\\mathbf{C}^T\\mathbf{x}_p = \\mathbf{x}_p  \\,\\,\\,\\,\\,\\,\\,\\,\\,\\,\\,\\,\\,\\,\\,\\,\\,\\,\\,\\,\\,\\,\\,\\, p = 1...P.\n",
    "\\end{equation}\n",
    "\n",
    "\n",
    "- So in short, when the spanning set is orthonormal the entire set of encodings of a dataset can be expressed strictly in terms of the spanning set and the data itself."
   ]
  },
  {
   "cell_type": "markdown",
   "metadata": {
    "slideshow": {
     "slide_type": "slide"
    }
   },
   "source": [
    "##  Imperfectly representing data using a fixed spanning set"
   ]
  },
  {
   "cell_type": "markdown",
   "metadata": {
    "slideshow": {
     "slide_type": "subslide"
    }
   },
   "source": [
    "- Above we reviewed two important facts that we require for a spanning set / basis in order for it to be capable of perfectly representing points in a generic $N$ dimensional space:\n",
    "\n",
    "\n",
    "-  The set of vectors are *linearly independent*, that is they point in different directions in the space\n",
    "\n",
    "\n",
    "- There are at least $N$ spanning vectors"
   ]
  },
  {
   "cell_type": "markdown",
   "metadata": {
    "slideshow": {
     "slide_type": "subslide"
    }
   },
   "source": [
    "- What happens when we relax the second condition and suppose we more generally have $K\\leq N$ spanning vectors / basis elements?  \n",
    "\n",
    "\n",
    "- Unsurprisingly we can no longer perfectly represent a generic set of $P$ points in the space. \n",
    "\n",
    "\n",
    "- In $N$ dimensions this set of $K$ vectors can - at best - span a $K$ dimensional subspace.  "
   ]
  },
  {
   "cell_type": "markdown",
   "metadata": {
    "slideshow": {
     "slide_type": "subslide"
    }
   },
   "source": [
    "- For example as illustrated in the figure below, if $N=3$ the best any set of $K=2$ spanning vectors can do is span a hyperplane.  \n",
    "\n",
    "\n",
    "- A set consisting of a single $K = 1$ spanning vector can only span a line.  \n",
    "\n",
    "\n",
    "- In both instances we clearly will not be able to perfectly represent all possible points in a space, since our reach in each case is restricted to a lower dimensional *subspace* of the full space. "
   ]
  },
  {
   "cell_type": "markdown",
   "metadata": {
    "slideshow": {
     "slide_type": "subslide"
    }
   },
   "source": [
    "<figure>\n",
    "  <img src= '../../mlrefined_images/unsupervised_images/PCA_proj.png' width=\"120%\"  height=\"auto\" alt=\"\"/>\n",
    "  <figcaption>   <em> (left top) An example of data in $N = 2$ dimensions projected onto a $K=1$ dimensional subspace. (right top) An example of data projected in $N = 3$ dimensional space projected onto a $K=2$ dimensional subspace.  </em>  </figcaption> \n",
    "</figure>"
   ]
  },
  {
   "cell_type": "markdown",
   "metadata": {
    "slideshow": {
     "slide_type": "subslide"
    }
   },
   "source": [
    "- While we may not be able to perfectly represent a given point or set of points in the space, we can try our best.  \n",
    "\n",
    "\n",
    "- Mirroring the setup we saw above with a complete basis, the same logic then leads us to the Least Squares cost function (a generalization of equation (4) above) for each data point\n",
    "\n",
    "\\begin{equation}\n",
    "g\\left(w_{1,\\,p},...w_{K,\\,p}\\right) = \\left(\\sum_{n=1}^K \\mathbf{c}_n w_{n,\\,p} - \\mathbf{x}_p\\right)^2   \\,\\,\\,\\,\\,\\,\\,\\,\\,\\,\\,\\,\\,\\,\\,\\,\\,\\,\\,\\,\\,\\,\\,\\, p=1...P\n",
    "\\end{equation}\n",
    "\n",
    "- here the only difference from the original cost function is that we now only have $K$ spanning set vectors.  "
   ]
  },
  {
   "cell_type": "markdown",
   "metadata": {
    "slideshow": {
     "slide_type": "subslide"
    }
   },
   "source": [
    "- Likewise we can derive the similar looking *first order system* of symmetric equations providing our ideal weights or encoding vectors $\\mathbf{w}_p$, writing them neatly using the compact vector / matrix notation established previously as\n",
    "\n",
    "\\begin{equation}\n",
    "\\mathbf{C}^T\\mathbf{C}^{\\,}\\mathbf{w}_p = \\mathbf{C}^T\\mathbf{x}_p \\,\\,\\,\\,\\,\\,\\,\\,\\,\\,\\,\\,\\,\\,\\,\\,\\,\\,\\,\\,\\,\\,\\,\\, p=1...P.\n",
    "\\end{equation}\n",
    "\n",
    "- Here there is of course only one caveat: since we have only $K$ spanning set vectors the matrix $\\mathbf{C}$ is $N\\times K$, consisting of only our $K$ spanning vectors lined up column-wise \n",
    "$\\mathbf{C} = \n",
    "\\begin{bmatrix}\n",
    "\\vert \\,\\,\\,\\,\\, \\vert \\,\\,\\, \\cdots  \\, \\vert \\\\\n",
    "\\mathbf{c}_1 \\,\\,\\, \\mathbf{c}_2 \\,\\,\\,\\,\\,\\, \\mathbf{c}_K \\\\\n",
    "\\vert \\,\\,\\,\\,\\, \\vert \\,\\,\\, \\cdots  \\, \\vert\n",
    "\\end{bmatrix}$."
   ]
  },
  {
   "cell_type": "markdown",
   "metadata": {
    "slideshow": {
     "slide_type": "subslide"
    }
   },
   "source": [
    "- Note how once the weight vectors / encodings $\\mathbf{w}_p$ are computed the *projection* of $\\mathbf{x}_p$ \n",
    "\n",
    "\n",
    "- i.e., its representation over the subspace spanned by $\\mathbf{C}$ - is given by the formula $\\mathbf{C}\\mathbf{w}_p$.  "
   ]
  },
  {
   "cell_type": "markdown",
   "metadata": {
    "slideshow": {
     "slide_type": "subslide"
    }
   },
   "source": [
    "- This is called the *projection* because the representation is given by 'dropping' $\\mathbf{x}_p$ perpendicularly onto the span of the hyperplane made by the span of the $K$ basis elements.\n",
    "\n",
    "\n",
    "- In line with the same sort of 'coding' language often used to describe the weight vector $\\mathbf{w}_p$ as the *encoding* of a point $\\mathbf{x}_p$ in the (sub)space spanned by $K$ spanning vectors $\\mathbf{c_1},\\,\\mathbf{c}_2,...,\\mathbf{c}_K$\n",
    "\n",
    "\n",
    "- Which as we have seen (and as visualized in the figure above) - the *projection* of each point onto the subspace spanned by these $K$ vectors is often referred to as the *decoding* of the original data point. "
   ]
  },
  {
   "cell_type": "markdown",
   "metadata": {
    "slideshow": {
     "slide_type": "subslide"
    }
   },
   "source": [
    "<figure>\n",
    "  <img src= '../../mlrefined_images/unsupervised_images/feature_space.png' width=\"85%\"  height=\"auto\" alt=\"\"/>\n",
    "  <figcaption>    <em> \n",
    "</em>  </figcaption> \n",
    "</figure>"
   ]
  },
  {
   "cell_type": "markdown",
   "metadata": {
    "slideshow": {
     "slide_type": "slide"
    }
   },
   "source": [
    "## Imperfect representation using a fixed orthonormal spanning set"
   ]
  },
  {
   "cell_type": "markdown",
   "metadata": {
    "slideshow": {
     "slide_type": "subslide"
    }
   },
   "source": [
    "<figure>\n",
    "  <img src= '../../mlrefined_images/unsupervised_images/autoencoder_geometry.png' width=\"95%\" height=\"auto\" alt=\"\"/>\n",
    "  <figcaption>   \n",
    "<em> \n",
    "The geometry of projecting a point $\\mathbf{x}_p$ onto a basis of orthogonal vectors, shown when using $K = 1$ vectors in the left panel and $K = 2$ in the right.\n",
    "\n",
    "</em>  </figcaption> \n",
    "</figure>"
   ]
  },
  {
   "cell_type": "markdown",
   "metadata": {
    "slideshow": {
     "slide_type": "subslide"
    }
   },
   "source": [
    "- If our spanning set / basis of $K$ elements is orthonormal the above formula for each weight vector encoding $\\mathbf{w}_p$ once again reduces algebraically to \n",
    "\n",
    "\\begin{equation}\n",
    "\\mathbf{w}_p = \\mathbf{C}^T\\mathbf{x}_p      \\,\\,\\,\\,\\,\\,\\,\\,\\,\\,\\,\\,\\,\\,\\,\\,\\,\\,\\,\\,\\,\\,\\,\\, p = 1...P\n",
    "\\end{equation} \n",
    "\n",
    "- since we will have \n",
    "\n",
    "\\begin{equation}\n",
    "\\mathbf{C}^T\\mathbf{C}^{\\,} = \\mathbf{I}_{K\\times K}.\n",
    "\\end{equation}"
   ]
  },
  {
   "cell_type": "markdown",
   "metadata": {
    "slideshow": {
     "slide_type": "subslide"
    }
   },
   "source": [
    "- Our representation is likewise given simply in terms of the incomplete spanning set and datapoints as\n",
    "\n",
    "\\begin{equation}\n",
    "\\mathbf{C}^{\\,}\\mathbf{C}^T\\mathbf{x}_p \\approx \\mathbf{x}_p  \\,\\,\\,\\,\\,\\,\\,\\,\\,\\,\\,\\,\\,\\,\\,\\,\\,\\,\\,\\,\\,\\,\\,\\, p = 1...P.\n",
    "\\end{equation}\n",
    "\n",
    "\n",
    "- These formula are absolutely critical since - as will see beginning in the very next Section... \n",
    "\n",
    "\n",
    "- ...when we next aim to *learn* the best basis for a given set of data the assumption of orthogonality simplifies this learning process significantly."
   ]
  }
 ],
 "metadata": {
  "anaconda-cloud": {},
  "celltoolbar": "Slideshow",
  "kernelspec": {
   "display_name": "Python 3",
   "language": "python",
   "name": "python3"
  },
  "language_info": {
   "codemirror_mode": {
    "name": "ipython",
    "version": 3
   },
   "file_extension": ".py",
   "mimetype": "text/x-python",
   "name": "python",
   "nbconvert_exporter": "python",
   "pygments_lexer": "ipython3",
   "version": "3.6.6"
  },
  "toc": {
   "colors": {
    "hover_highlight": "#DAA520",
    "navigate_num": "#000000",
    "navigate_text": "#333333",
    "running_highlight": "#FF0000",
    "selected_highlight": "#FFD700",
    "sidebar_border": "#EEEEEE",
    "wrapper_background": "#FFFFFF"
   },
   "moveMenuLeft": true,
   "nav_menu": {
    "height": "214px",
    "width": "252px"
   },
   "navigate_menu": true,
   "number_sections": false,
   "sideBar": true,
   "threshold": 4,
   "toc_cell": false,
   "toc_section_display": "block",
   "toc_window_display": false,
   "widenNotebook": false
  },
  "widgets": {
   "application/vnd.jupyter.widget-state+json": {
    "state": {},
    "version_major": 1,
    "version_minor": 0
   }
  }
 },
 "nbformat": 4,
 "nbformat_minor": 1
}

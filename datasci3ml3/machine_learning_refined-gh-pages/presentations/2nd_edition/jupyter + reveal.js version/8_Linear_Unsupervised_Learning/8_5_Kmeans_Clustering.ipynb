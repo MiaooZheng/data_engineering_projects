{
 "cells": [
  {
   "cell_type": "markdown",
   "metadata": {
    "slideshow": {
     "slide_type": "slide"
    }
   },
   "source": [
    "# 8.5  K-means Clustering"
   ]
  },
  {
   "cell_type": "markdown",
   "metadata": {
    "slideshow": {
     "slide_type": "subslide"
    }
   },
   "source": [
    "- In Sectio 8.3 we saw how Principal Component Analysis can be used as a basis for various normalization schemes. \n",
    "\n",
    "\n",
    "- As well as a tool for simplifying a high dimensional dataset by properly reducing its *input* or *feature* dimension.  \n",
    "\n",
    "\n",
    "- The subject of this Section is another tool for simplifying data, however here the problem is not (necessarily) that the data lives in high dimension but that there are simply too many data points to process (either by an algorithm or a human interpreter).  "
   ]
  },
  {
   "cell_type": "markdown",
   "metadata": {
    "slideshow": {
     "slide_type": "subslide"
    }
   },
   "source": [
    "- The focus of this Section - the *K-means algorithm* - is an elementary example of another set of unsupervised learning methods called *clustering algorithms*.  \n",
    "\n",
    "\n",
    "- These algorithms are designed to (properly) reduce the number of points in a dataset, which we refer to as the *data dimension* of a dataset...\n",
    "\n",
    "\n",
    "- ...and in doing so help us understand the structure of our data."
   ]
  },
  {
   "cell_type": "markdown",
   "metadata": {
    "slideshow": {
     "slide_type": "subslide"
    }
   },
   "source": [
    "You can toggle the code on and off in this presentation via the button below."
   ]
  },
  {
   "cell_type": "code",
   "execution_count": 3,
   "metadata": {
    "slideshow": {
     "slide_type": "subslide"
    }
   },
   "outputs": [
    {
     "data": {
      "text/html": [
       "<script>\n",
       "code_show=true; \n",
       "function code_toggle() {\n",
       " if (code_show){\n",
       " $('div.input').hide();\n",
       " } else {\n",
       " $('div.input').show();\n",
       " }\n",
       " code_show = !code_show\n",
       "} \n",
       "$( document ).ready(code_toggle);\n",
       "</script>\n",
       "<form action=\"javascript:code_toggle()\"><input type=\"submit\" value=\"Click here to toggle on/off the raw code.\"></form>"
      ],
      "text/plain": [
       "<IPython.core.display.HTML object>"
      ]
     },
     "execution_count": 3,
     "metadata": {},
     "output_type": "execute_result"
    }
   ],
   "source": [
    "from IPython.display import HTML\n",
    "\n",
    "HTML('''<script>\n",
    "code_show=true; \n",
    "function code_toggle() {\n",
    " if (code_show){\n",
    " $('div.input').hide();\n",
    " } else {\n",
    " $('div.input').show();\n",
    " }\n",
    " code_show = !code_show\n",
    "} \n",
    "$( document ).ready(code_toggle);\n",
    "</script>\n",
    "<form action=\"javascript:code_toggle()\"><input type=\"submit\" value=\"Click here to toggle on/off the raw code.\"></form>''')"
   ]
  },
  {
   "cell_type": "code",
   "execution_count": 1,
   "metadata": {
    "slideshow": {
     "slide_type": "skip"
    }
   },
   "outputs": [],
   "source": [
    "# This code cell will not be shown in the HTML version of this notebook\n",
    "# imports from custom library\n",
    "import sys\n",
    "sys.path.append('../../')\n",
    "import matplotlib.pyplot as plt\n",
    "import numpy as np\n",
    "import math\n",
    "import pandas as pd\n",
    "datapath = '../../mlrefined_datasets/unsuperlearn_datasets/'\n",
    "\n",
    "# This is needed to compensate for %matplotlib notebook's tendancy to blow up images when plotted inline\n",
    "from matplotlib import rcParams\n",
    "rcParams['figure.autolayout'] = True\n",
    "%matplotlib inline\n",
    "\n",
    "from sklearn import datasets\n",
    "from IPython import display\n",
    "from mlrefined_libraries import unsupervised_library as unsuperlib\n",
    "\n",
    "%load_ext autoreload\n",
    "%autoreload 2"
   ]
  },
  {
   "cell_type": "markdown",
   "metadata": {
    "slideshow": {
     "slide_type": "slide"
    }
   },
   "source": [
    "##  Representing a dataset via clusters"
   ]
  },
  {
   "cell_type": "markdown",
   "metadata": {
    "slideshow": {
     "slide_type": "subslide"
    }
   },
   "source": [
    "- One very simple way to simplify a dataset is by grouping together nearby points into *clusters*.  \n",
    "\n",
    "\n",
    "- Take the following set of two-dimensional data points, shown in the left panel below.  \n",
    "\n",
    "\n",
    "- When you look at the image of this data you can see that it naturally falls into three groups or *clusters*...\n",
    "\n",
    "\n",
    "- ...because you have something along the lines of a clustering algorithms 'built in' to your mental software (along with many other pattern recognition abilities).  "
   ]
  },
  {
   "cell_type": "markdown",
   "metadata": {
    "slideshow": {
     "slide_type": "subslide"
    }
   },
   "source": [
    "- In the right panel we project a visual representation of each cluster onto the data, including each cluster's boundary drawn as a uniquely colored solid curve. \n",
    "\n",
    "\n",
    "- We also draw the center of each cluster using a star symbol that matches the unique boundary color of each cluster.   "
   ]
  },
  {
   "cell_type": "markdown",
   "metadata": {
    "slideshow": {
     "slide_type": "subslide"
    }
   },
   "source": [
    "\n",
    "- These cluster centers are often referred to in the jargon of machine learning as cluster *centroids*. \n",
    "\n",
    "\n",
    "- The centroids here allow us to think about the dataset in the big picture sense - instead of $P = 10$ points we can think of our dataset grossly in terms of these $K=3$ cluster centroids, as each represents a chunk of the data.  "
   ]
  },
  {
   "cell_type": "markdown",
   "metadata": {
    "slideshow": {
     "slide_type": "subslide"
    }
   },
   "source": [
    "<figure>\n",
    "  <img src= '../../mlrefined_images/unsupervised_images/Kmeans_1.png' width=\"80%\" height=\"auto\" alt=\"\"/>\n",
    "  <figcaption>   <em> (left) A 2-dimensional toy dataset with $P=10$ data points. (right) The data shown naturally clustered into $K=3$ clusters. Each cluster center - also called a *centroid* - is marked by a star symbol colored to match its cluster boundary.</em>  </figcaption> \n",
    "</figure>"
   ]
  },
  {
   "cell_type": "markdown",
   "metadata": {
    "collapsed": true,
    "slideshow": {
     "slide_type": "subslide"
    }
   },
   "source": [
    "- How can we describe - mathematically speaking - the clustering scenario we naturally see when we view the points in the left panel above, as highlighted in the right panel? \n",
    "\n",
    "\n",
    "- First some notation.  \n",
    "\n",
    "\n",
    "- As in the previous Sections we will denote our set of $P$ points generically as $\\mathbf{x}_1,\\,\\mathbf{x}_2,\\,...,\\mathbf{x}_P$ where in our current instance $P=10)$ all of dimension $N$ (in our example here $N=2$).  "
   ]
  },
  {
   "cell_type": "markdown",
   "metadata": {
    "slideshow": {
     "slide_type": "subslide"
    }
   },
   "source": [
    "\n",
    "- To keep things as generally applicable as possible we will also use the notation $K$ to denote the number of clusters in a dataset, in our current example $K=3$.  \n",
    "\n",
    "\n",
    "\n",
    "- Because each cluster has a centroid we need notation for this as well, and we will use $\\mathbf{c}_1,\\,\\mathbf{c}_2,\\,...,\\mathbf{c}_K$ to denote these where $\\mathbf{c}_k$ is the centroid of the $k^{th}$ cluster.  \n",
    "\n",
    "\n",
    "- Finally we need a notation to denote the set of points that belong to each cluster.  We denote the set of indices of those points belonging to the $k^{th}$ cluster as\n",
    "\n",
    "\\begin{equation}\n",
    "\\mathcal{S}_k =  \\left\\{ p\\,\\, \\lvert \\,\\,\\text{if $\\mathbf{x}_p$ belongs to the $k^{th}$ cluster } \\right\\}.\n",
    "\\end{equation}"
   ]
  },
  {
   "cell_type": "markdown",
   "metadata": {
    "collapsed": true,
    "slideshow": {
     "slide_type": "subslide"
    }
   },
   "source": [
    "- With all of our notation in hand we can now better describe the prototype clustering scenario shown in the figure above.  \n",
    "\n",
    "\n",
    "- Again, note here we have assumed that we have identified each cluster and its centroid 'bye eye'.  \n",
    "\n",
    "\n",
    "- Firstly, because the centroid denotes the center of a cluster it seems intuitive that each one should be expressible as the average of the points assigned to each cluster.  "
   ]
  },
  {
   "cell_type": "markdown",
   "metadata": {
    "collapsed": true,
    "slideshow": {
     "slide_type": "subslide"
    }
   },
   "source": [
    "- Algebraically this is to say that\n",
    "\n",
    "\\begin{equation}\n",
    "\\mathbf{c}_k = \\frac{1}{\\left\\vert\\mathcal{S}_k\\right\\vert}\\sum_{p\\in\\mathcal{S}_k}\\mathbf{x}_p.\n",
    "\\end{equation}\n",
    "\n",
    "\n",
    "- This formula confirms the intuition that each centroid represents a chunk of the data - the average of those points belonging to each cluster.  \n",
    "\n",
    "\n",
    "- Next we can state mathematically an obvious and implicit fact about the clustering scenario above: that each point belongs to the cluster whose centroid it is closest to. \n"
   ]
  },
  {
   "cell_type": "markdown",
   "metadata": {
    "slideshow": {
     "slide_type": "subslide"
    }
   },
   "source": [
    "- To express this algebraically for a given point $\\mathbf{x}_p$ is simply say that the point must belong to the cluster where the distance to the centroid $\\left\\Vert \\mathbf{x}_p - \\mathbf{c}_k \\right\\Vert_2$ is minimal.  \n",
    "\n",
    "\n",
    "- In other words, the point $\\mathbf{x}_p$ belongs to or is *assigned* to cluster $k^{\\star}$ if\n",
    "\n",
    "\\begin{equation}\n",
    "a_p = \\underset{k=1,...,K}{\\text{argmin}} \\,\\,\\,\\left\\Vert \\mathbf{x}_p - \\mathbf{c}_k \\right\\Vert_2\n",
    "\\end{equation}\n",
    "\n",
    "- In the jargon of machine learning these are called cluster *assignments*."
   ]
  },
  {
   "cell_type": "markdown",
   "metadata": {
    "collapsed": true,
    "slideshow": {
     "slide_type": "slide"
    }
   },
   "source": [
    "##  Learning clusters to represent data"
   ]
  },
  {
   "cell_type": "markdown",
   "metadata": {
    "slideshow": {
     "slide_type": "subslide"
    }
   },
   "source": [
    "- We do not want to have to visually identify clusters in a dataset ourselves...\n",
    "\n",
    "\n",
    "- ...and in any being constrained three dimensions if the dimension of of a dataset is greater than $N=3$ there is no way for us humans to do this anyway.  \n",
    "\n",
    "\n",
    "- Instead we want an algorithm that will do this for us automatically. "
   ]
  },
  {
   "cell_type": "markdown",
   "metadata": {
    "slideshow": {
     "slide_type": "subslide"
    }
   },
   "source": [
    "- Thankfully we can do this rather easily using the framework detailed above for mathematically describing clusters...\n",
    "\n",
    "\n",
    "- ...the resulting algorithm being called the *K-means clustering algorithm*.  \n",
    "\n",
    "\n",
    "- As with many of the algorithms we have seen K-means is an *iterative method*, meaning that we will refine the ideal location for our cluster centroids / cluster assignments over a number of update steps."
   ]
  },
  {
   "cell_type": "markdown",
   "metadata": {
    "collapsed": true,
    "slideshow": {
     "slide_type": "subslide"
    }
   },
   "source": [
    "- To get started -  let us say that we want to cluster a dataset of $P$ points into $K$ clusters automatically.  \n",
    "\n",
    "\n",
    "- Note here that we will fix $K$, and address how to properly decide on its value later.  \n",
    "\n",
    "\n",
    "- Now to state the obvious - remember - we know neither a) the locations of each cluster centroid nor b) the cluster assignments."
   ]
  },
  {
   "cell_type": "markdown",
   "metadata": {
    "slideshow": {
     "slide_type": "subslide"
    }
   },
   "source": [
    "- Since we do not know where the clusters nor their centroids are located we can start off by taking a random guess at the locations of our $K$ centroids (we have to start somewhere).  \n",
    "\n",
    "\n",
    "- This 'random guess' - our initialization - for the $K$ centroids could be a random subset of $K$ of our points, or any number of [other types of initializations](https://stats.stackexchange.com/questions/317493/methods-of-initializing-k-means-clustering).  \n"
   ]
  },
  {
   "cell_type": "markdown",
   "metadata": {
    "slideshow": {
     "slide_type": "subslide"
    }
   },
   "source": [
    "\n",
    "- With our initial centroid locations decided on we can then determine cluster assignments by simply looping over our points and for each $\\mathbf{x}_p$ finding its closest centroid using the formula we saw above\n",
    "\n",
    "\\begin{equation}\n",
    "a_p = \\underset{k=1,...,K}{\\text{argmin}} \\,\\,\\,\\left\\Vert \\mathbf{x}_p - \\mathbf{c}_k \\right\\Vert_2.\n",
    "\\end{equation}"
   ]
  },
  {
   "cell_type": "markdown",
   "metadata": {
    "slideshow": {
     "slide_type": "subslide"
    }
   },
   "source": [
    "- Now we have both an initial guess at our centroids and clustering assignments.  \n",
    "\n",
    "\n",
    "- With our cluster assignments in hand we can then update our centroid locations - as the average of the points assigned to each cluster\n",
    "\n",
    "\\begin{equation}\n",
    "\\mathbf{c}_k = \\frac{1}{\\left\\vert\\mathcal{S}_k\\right\\vert}\\sum_{p\\in\\mathcal{S}_k}\\mathbf{x}_p.\n",
    "\\end{equation}\n",
    "\n",
    "\n",
    "- These first three steps - initializing the centroids, assigning points to each cluster, and updating the centroid locations - are shown in the figure below."
   ]
  },
  {
   "cell_type": "markdown",
   "metadata": {
    "collapsed": true,
    "slideshow": {
     "slide_type": "subslide"
    }
   },
   "source": [
    "<figure>\n",
    "  <img src= '../../mlrefined_images/unsupervised_images/Kmeans_2.png' width=\"90%\" height=\"auto\" alt=\"\"/>\n",
    "  <figcaption>    <em> (left) set of data points with random centroid initializations, and assignments (right) centroid locations updated as average of points assigned to each cluster </em>  </figcaption> \n",
    "</figure>"
   ]
  },
  {
   "cell_type": "markdown",
   "metadata": {
    "slideshow": {
     "slide_type": "subslide"
    }
   },
   "source": [
    "- To further refine our centroids / clusters we can now just repeat the above two-step process of...\n",
    "\n",
    "\n",
    "- ...a) re-assigning points based on our new centroid locations and then...\n",
    "\n",
    "\n",
    "- ...b) updating the centroid locations as the average of those points assigned to each cluster.  \n",
    "\n",
    "\n",
    "- We can halt doing so after e.g., a pre-defined number of maximum iterations or when the cluster centroids to not change location very much from one iteration to the next."
   ]
  },
  {
   "cell_type": "markdown",
   "metadata": {
    "slideshow": {
     "slide_type": "subslide"
    }
   },
   "source": [
    "<figure>\n",
    "  <img src= '../../mlrefined_images/unsupervised_images/Kmeans_3.png' width=\"90%\" height=\"auto\" alt=\"\"/>\n",
    "  <figcaption>   \n",
    " <em> (left) assigning points based on updated centroid locations (right) updated location of centroids given by cluster averages </em>  </figcaption> \n",
    "</figure>"
   ]
  },
  {
   "cell_type": "markdown",
   "metadata": {
    "slideshow": {
     "slide_type": "skip"
    }
   },
   "source": [
    "This is the *K-means* algorithm - the pseudo-code of which is given below.  "
   ]
  },
  {
   "cell_type": "markdown",
   "metadata": {
    "slideshow": {
     "slide_type": "skip"
    }
   },
   "source": [
    "### The K-means algorithm\n",
    "\n",
    "<hr style=\"height:1px;border:none;color:#555;background-color:#555;\">\n",
    "<p style=\"line-height: 1.7;\">\n",
    "<strong>1:</strong>&nbsp;&nbsp; <strong>input:</strong> dataset $\\mathbf{x}_1,...,\\mathbf{x}_P$, initializations for centroids $\\mathbf{c}_1,...,\\mathbf{c}_K$, and maximum number of iterations $J$ <br>\n",
    "\n",
    "<strong>2:</strong>&nbsp;&nbsp; <code>for</code> $\\,\\,j = 1,\\ldots,J$<br>\n",
    "\n",
    "<strong>3:</strong>&nbsp;&nbsp;&nbsp;&nbsp;&nbsp;&nbsp;&nbsp;&nbsp;&nbsp;&nbsp; <code># Update cluster assignments</code><br>\n",
    "\n",
    "<strong>4:</strong>&nbsp;&nbsp;&nbsp;&nbsp;&nbsp;&nbsp;&nbsp;&nbsp;&nbsp;&nbsp; <code>for</code> $\\,\\,p = 1,\\ldots,P$<br>\n",
    "\n",
    "<strong>5:</strong>&nbsp;&nbsp;&nbsp;&nbsp;&nbsp;&nbsp;&nbsp;&nbsp;&nbsp;&nbsp;&nbsp;&nbsp;&nbsp;&nbsp;&nbsp;&nbsp;&nbsp;&nbsp;&nbsp;&nbsp; $a_p =\\underset{k=1,\\ldots,K}{\\mbox{argmin}}\\,\\,\\left\\Vert \\mathbf{c}_{k}-\\mathbf{x}_{p}\\right\\Vert _{2}$<br>\n",
    "\n",
    "<strong>6:</strong>&nbsp;&nbsp;&nbsp;&nbsp;&nbsp;&nbsp;&nbsp;&nbsp;&nbsp;&nbsp; <code>end for</code><br>\n",
    "\n",
    "<strong>7:</strong>&nbsp;&nbsp;&nbsp;&nbsp;&nbsp;&nbsp;&nbsp;&nbsp;&nbsp;&nbsp; <code># Update centroid locations</code><br>\n",
    "\n",
    "<strong>8:</strong>&nbsp;&nbsp;&nbsp;&nbsp;&nbsp;&nbsp;&nbsp;&nbsp;&nbsp;&nbsp; <code>for</code> $\\,\\,k = 1,\\ldots,K$<br>\n",
    "\n",
    "<strong>9:</strong>&nbsp;&nbsp;&nbsp;&nbsp;&nbsp;&nbsp;&nbsp;&nbsp;&nbsp;&nbsp;&nbsp;&nbsp;&nbsp;&nbsp;&nbsp;&nbsp;&nbsp;&nbsp;&nbsp;&nbsp; denote $\\mathcal{S}_{k}$ the index set of points $\\mathbf{x}_{p}$ currently assigned to the $k^{th}$ cluster<br>\n",
    "\n",
    "<strong>10:</strong>&nbsp;&nbsp;&nbsp;&nbsp;&nbsp;&nbsp;&nbsp;&nbsp;&nbsp;&nbsp;&nbsp;&nbsp;&nbsp;&nbsp;&nbsp;&nbsp;&nbsp;&nbsp; update $\\mathbf{c}_k$ via $\\mathbf{c}_{k}=\\frac{1}{\\left|\\mathcal{S}_{k}\\right|}\\underset{p\\in\\mathcal{S}_{k}}{\\sum}\\mathbf{x}_{p}$<br>\n",
    "\n",
    "<strong>11:</strong>&nbsp;&nbsp;&nbsp;&nbsp;&nbsp;&nbsp;&nbsp;&nbsp; <code>end for</code><br>\n",
    "\n",
    "<strong>12:</strong>&nbsp; <code>end for</code><br>\n",
    "\n",
    "<strong>13:</strong>&nbsp;&nbsp; <code># Update cluster assignments using final centroids</code><br>\n",
    "\n",
    "<strong>14:</strong>&nbsp;&nbsp; <code>for</code> $\\,\\,p = 1,\\ldots,P$<br>\n",
    "\n",
    "<strong>15:</strong>&nbsp;&nbsp;&nbsp;&nbsp;&nbsp;&nbsp;&nbsp;&nbsp;&nbsp;&nbsp;&nbsp; $a_p =\\underset{k=1,\\ldots,K}{\\mbox{argmin}}\\,\\,\\left\\Vert \\mathbf{c}_{k}-\\mathbf{x}_{p}\\right\\Vert _{2}$<br>\n",
    "\n",
    "<strong>16:</strong>&nbsp;&nbsp; <code>end for</code><br>\n",
    "\n",
    "<strong>17:</strong>&nbsp; <strong>output:</strong> optimal centroids and assignments<br>\n",
    "\n",
    "<hr style=\"height:1px;border:none;color:#555;background-color:#555;\">\n",
    "</p>"
   ]
  },
  {
   "cell_type": "markdown",
   "metadata": {
    "slideshow": {
     "slide_type": "skip"
    }
   },
   "source": [
    "Below we have a simple Python implementation of the pseudo-code above, that is used in the examples that follow."
   ]
  },
  {
   "cell_type": "code",
   "execution_count": 2,
   "metadata": {
    "slideshow": {
     "slide_type": "skip"
    }
   },
   "outputs": [],
   "source": [
    "####### K-means functionality #######\n",
    "# function for updating cluster assignments\n",
    "def update_assignments(data,centroids):\n",
    "    P = np.shape(data)[1]\n",
    "    assignments = []\n",
    "    for p in range(P):\n",
    "        # get pth point\n",
    "        x_p = data[:,p][:,np.newaxis]\n",
    "        \n",
    "        # compute distance between pth point and all centroids\n",
    "        # using numpy broadcasting\n",
    "        diffs = np.sum((x_p - centroids)**2,axis = 0)\n",
    "        \n",
    "        # determine closest centroid\n",
    "        ind = np.argmin(diffs)\n",
    "        assignments.append(ind)\n",
    "    return np.array(assignments)"
   ]
  },
  {
   "cell_type": "code",
   "execution_count": null,
   "metadata": {
    "slideshow": {
     "slide_type": "skip"
    }
   },
   "outputs": [],
   "source": [
    "# update centroid locations\n",
    "def update_centroids(data,old_centroids,assignments):\n",
    "    K = old_centroids.shape[1]\n",
    "    # new centroid container\n",
    "    centroids = []\n",
    "    for k in range(K):\n",
    "        # collect indices of points belonging to kth cluster\n",
    "        S_k = np.argwhere(assignments == k)\n",
    "        \n",
    "        # take average of points belonging to this cluster\n",
    "        c_k = 0\n",
    "        if np.size(S_k) > 0:\n",
    "            c_k = np.mean(data[:,S_k],axis = 1)\n",
    "        else:  # what if no points in the cluster?  keep previous centroid\n",
    "            c_k = copy.deepcopy(old_centroids[:,k])[:,np.newaxis]\n",
    "        centroids.append(c_k)\n",
    "    centroids = np.array(centroids)[:,:,0]\n",
    "    return centroids.T"
   ]
  },
  {
   "cell_type": "code",
   "execution_count": null,
   "metadata": {
    "slideshow": {
     "slide_type": "skip"
    }
   },
   "outputs": [],
   "source": [
    "# main k-means function\n",
    "def my_kmeans(data,centroids,max_its):    \n",
    "    # outer loop - alternate between updating assignments / centroids\n",
    "    for j in range(max_its):\n",
    "        # update cluter assignments\n",
    "        assignments = update_assignments(data,centroids)\n",
    "        \n",
    "        # update centroid locations\n",
    "        centroids = update_centroids(data,centroids,assignments)\n",
    "        \n",
    "    # final assignment update\n",
    "    assignments = update_assignments(data,centroids)\n",
    "    return centroids,assignments"
   ]
  },
  {
   "cell_type": "markdown",
   "metadata": {
    "slideshow": {
     "slide_type": "skip"
    }
   },
   "source": [
    "We show how to call the ``K-means`` implementation in the cell below for a given dataset ``data``."
   ]
  },
  {
   "cell_type": "code",
   "execution_count": 3,
   "metadata": {
    "slideshow": {
     "slide_type": "skip"
    }
   },
   "outputs": [],
   "source": [
    "# This code cell will not be shown in the HTML version of this notebook\n",
    "# load in a toy dataset for demonstrating K-means\n",
    "data = np.loadtxt(datapath + '5cluster_2d_data.csv',delimiter = ',')\n",
    "\n",
    "# initialize centroids as random points, pick a number \n",
    "# clusters K to try, and set maximum iterations\n",
    "r = np.arange(np.shape(data)[1])\n",
    "num_clusters = 3\n",
    "pts = np.random.permutation(r)[:num_clusters]\n",
    "iniit_centroids = data[:,pts]\n",
    "max_its = 10\n",
    "\n",
    "# run k-means implementation above\n",
    "centroids,assignments = my_kmeans(data,iniit_centroids,max_its)"
   ]
  },
  {
   "cell_type": "markdown",
   "metadata": {
    "slideshow": {
     "slide_type": "slide"
    }
   },
   "source": [
    "#### <span style=\"color:#a50e3e;\">Example. </span> K-means and bad local minima "
   ]
  },
  {
   "cell_type": "markdown",
   "metadata": {
    "slideshow": {
     "slide_type": "subslide"
    }
   },
   "source": [
    "In this example we use the ``Python`` K-means implementation above to animate the K-means clustering process for the toy dataset loaded in and plotted in the next cell."
   ]
  },
  {
   "cell_type": "code",
   "execution_count": 4,
   "metadata": {
    "slideshow": {
     "slide_type": "subslide"
    }
   },
   "outputs": [
    {
     "data": {
      "image/png": "[encoded data removed]",
      "text/plain": [
       "<Figure size 432x288 with 1 Axes>"
      ]
     },
     "metadata": {
      "needs_background": "light"
     },
     "output_type": "display_data"
    }
   ],
   "source": [
    "# This code cell will not be shown in the HTML version of this notebook\n",
    "# scatter plot the dataset \n",
    "plt.scatter(data[0,:],data[1,:],c = 'k')\n",
    "plt.show()"
   ]
  },
  {
   "cell_type": "markdown",
   "metadata": {
    "slideshow": {
     "slide_type": "subslide"
    }
   },
   "source": [
    "- This roughly looks like it could be clustered into $K=5$ clusters.  \n",
    "\n",
    "\n",
    "- Let us try applying K-means using $K=5$ to see if the algorithm can recover them properly.\n",
    "\n",
    "\n",
    "\n",
    "- Below we run and animate the K-means algorithm using $K=5$.\n",
    "\n",
    "\n",
    "- This animator displays each iteration of the algorithm is three frames. "
   ]
  },
  {
   "cell_type": "code",
   "execution_count": null,
   "metadata": {
    "slideshow": {
     "slide_type": "skip"
    }
   },
   "outputs": [],
   "source": [
    "# This code cell will not be shown in the HTML version of this notebook\n",
    "# initialize centroids as random points and set maximum number of iterations\n",
    "random_pts = np.array([13, 10, 23, 27, 48])\n",
    "init_centroids = data[:,random_pts]\n",
    "max_its = 8\n",
    "\n",
    "# run K-means animator using Python implementation above\n",
    "savepath='videos/animation_3.mp4'\n",
    "unsuperlib.K_means_demos.run_animated_demo(savepath,data,init_centroids,max_its,fps=0.5)"
   ]
  },
  {
   "cell_type": "code",
   "execution_count": 9,
   "metadata": {
    "slideshow": {
     "slide_type": "subslide"
    }
   },
   "outputs": [
    {
     "data": {
      "text/html": [
       "\n",
       "<video width=\"1000\" height=\"400\" controls loop>\n",
       "  <source src=\"videos/animation_3.mp4\" type=\"video/mp4\">\n",
       "  </video>\n"
      ],
      "text/plain": [
       "<IPython.core.display.HTML object>"
      ]
     },
     "execution_count": 9,
     "metadata": {},
     "output_type": "execute_result"
    }
   ],
   "source": [
    "## This code cell will not be shown in the HTML version of this notebook\n",
    "# load video into notebook\n",
    "from IPython.display import HTML\n",
    "HTML(\"\"\"\n",
    "<video width=\"1000\" height=\"400\" controls loop>\n",
    "  <source src=\"videos/animation_3.mp4\" type=\"video/mp4\">\n",
    "  </video>\n",
    "\"\"\")"
   ]
  },
  {
   "cell_type": "markdown",
   "metadata": {
    "slideshow": {
     "slide_type": "slide"
    }
   },
   "source": [
    "#### <span style=\"color:#a50e3e;\">Example. </span> K-means failures due to a poor choice of initialization"
   ]
  },
  {
   "cell_type": "markdown",
   "metadata": {
    "slideshow": {
     "slide_type": "subslide"
    }
   },
   "source": [
    "- In this example we show how K-means can fail due to a poor choice of initial centroids.\n",
    "\n",
    "\n",
    "- Regardless, one can intuit that the quality of a K-means clustering surely depends on a high quality initialization.  \n",
    "\n",
    "\n",
    "- What does a good initialization look like?  \n"
   ]
  },
  {
   "cell_type": "markdown",
   "metadata": {
    "slideshow": {
     "slide_type": "subslide"
    }
   },
   "source": [
    "\n",
    "- Generally speaking, a good initializations is one where the initial centroids are spread evenly throughout the distribution of the data.\n",
    "\n",
    "\n",
    "- Conversely, a poor initialization is typically one where all of the initial centroids are bunched up together in a small region of the space.  \n",
    "\n",
    "\n",
    "- This can make it difficult for the centroids to spread out effectively, leading to less than optimal clusterings or even 'empty clusters' (i.e., those to which no points are finally assigned)."
   ]
  },
  {
   "cell_type": "markdown",
   "metadata": {
    "slideshow": {
     "slide_type": "subslide"
    }
   },
   "source": [
    "- Using a toy dataset we illustrate two examples of this behavior below.  \n",
    "\n",
    "\n",
    "- Here the initial centroids have been chosen as points in the dataset, and very particularly to illustrate these behaviors.  \n",
    "\n",
    "\n",
    "- Because in practice we may choose initial centroids e.g., as random points from our dataset these problems may not occur so frequently, but they are still a danger.\n",
    "\n",
    "\n",
    "- Note that in this example using scikit-learn's [make_blobs](http://scikit-learn.org/stable/modules/generated/sklearn.datasets.make_blobs.html) functionality to form a randomly generated dataset."
   ]
  },
  {
   "cell_type": "code",
   "execution_count": 10,
   "metadata": {
    "slideshow": {
     "slide_type": "subslide"
    }
   },
   "outputs": [
    {
     "data": {
      "image/png": "[encoded data removed]",
      "text/plain": [
       "<Figure size 432x288 with 1 Axes>"
      ]
     },
     "metadata": {
      "needs_background": "light"
     },
     "output_type": "display_data"
    }
   ],
   "source": [
    "# This code cell will not be shown in the HTML version of this notebook\n",
    "# Loading the data\n",
    "P = 50 # Number of data points\n",
    "blobs = datasets.make_blobs(n_samples=P, random_state=1,centers = 3)\n",
    "data = np.transpose(blobs[0])\n",
    "\n",
    "# scatter plot the dataset \n",
    "plt.scatter(data[0,:],data[1,:],c = 'k')\n",
    "plt.show()"
   ]
  },
  {
   "cell_type": "markdown",
   "metadata": {
    "slideshow": {
     "slide_type": "subslide"
    }
   },
   "source": [
    "- The first and most fundamental issue is that of *empty clusters*, meaning clusters with no points assigned to them.  \n",
    "\n",
    "\n",
    "- It is indeed possible, for some unfortunate initialization choices, for clusters to end up being empty when running K-means.  \n",
    "\n",
    "\n",
    "- This is not an overly common occurrence, but is still worth noting. "
   ]
  },
  {
   "cell_type": "markdown",
   "metadata": {
    "slideshow": {
     "slide_type": "subslide"
    }
   },
   "source": [
    "- We illustrate the empty-cluster problem below - where we make a run of $K = 3$ K-means clustering using the dataset above and a particular random initialization for the cluster centroids.  \n",
    "\n",
    "\n",
    "- Here we choose a completely random set of points to initialize our centroids with, instead of a random subset of our training data, because it is easier to 'trip up' K-means doing so.  \n",
    "\n",
    "\n",
    "- The animation / slider mechanism below works precisely as in the previous example, with each iteration shown in multiple frames, and moving the slider left to right controlling the iteration of K-means being shown."
   ]
  },
  {
   "cell_type": "code",
   "execution_count": null,
   "metadata": {
    "slideshow": {
     "slide_type": "skip"
    }
   },
   "outputs": [],
   "source": [
    "# This code cell will not be shown in the HTML version of this notebook\n",
    "# a random initialization\n",
    "init_centroids = np.array([[-0.57069626, -1.49710357,  0.02538411],\n",
    "                           [ 1.77397192,  2.98237079,  0.53539765]])\n",
    "\n",
    "# run K-means animator using Python implementation above\n",
    "savepath = 'videos/animation_4.mp4'\n",
    "unsuperlib.K_means_demos.run_animated_demo(savepath,data,init_centroids,max_its = 5,fps=0.5)"
   ]
  },
  {
   "cell_type": "code",
   "execution_count": 12,
   "metadata": {
    "slideshow": {
     "slide_type": "subslide"
    }
   },
   "outputs": [
    {
     "data": {
      "text/html": [
       "\n",
       "<video width=\"1000\" height=\"400\" controls loop>\n",
       "  <source src=\"videos/animation_4.mp4\" type=\"video/mp4\">\n",
       "  </video>\n"
      ],
      "text/plain": [
       "<IPython.core.display.HTML object>"
      ]
     },
     "execution_count": 12,
     "metadata": {},
     "output_type": "execute_result"
    }
   ],
   "source": [
    "## This code cell will not be shown in the HTML version of this notebook\n",
    "# load video into notebook\n",
    "from IPython.display import HTML\n",
    "HTML(\"\"\"\n",
    "<video width=\"1000\" height=\"400\" controls loop>\n",
    "  <source src=\"videos/animation_4.mp4\" type=\"video/mp4\">\n",
    "  </video>\n",
    "\"\"\")"
   ]
  },
  {
   "cell_type": "markdown",
   "metadata": {
    "slideshow": {
     "slide_type": "subslide"
    }
   },
   "source": [
    "- Notice here how - due to the centroid initializations - the blue cluster very quickly becomes empty (every point is closer to one of the other two centroids) and never recovers any assigned points.  \n",
    "\n",
    "\n",
    "- This problem can be easily detected in practice (simply count up the number of assignments at the end of a run of K-means), and re-running with a different initialization is typically the anecdote."
   ]
  },
  {
   "cell_type": "markdown",
   "metadata": {
    "slideshow": {
     "slide_type": "subslide"
    }
   },
   "source": [
    "- The second issue to keep note of with K-means is the *sub-optimal clustering*.  \n",
    "\n",
    "\n",
    "- This means that although the proper number of clusters $K$ was chosen the final clustering itself fails to fully capture the cluster-structure of the data.  \n",
    "\n",
    "\n",
    "\n",
    "- The animation below illustrates this failure on the same dataset used above.  \n",
    "\n",
    "\n",
    "\n",
    "- Here we can see that - due to the initialization - the single cluster in the top of the image is cleaved in two, while the two lower clusters are identified a single massive cluster."
   ]
  },
  {
   "cell_type": "code",
   "execution_count": null,
   "metadata": {
    "slideshow": {
     "slide_type": "skip"
    }
   },
   "outputs": [],
   "source": [
    "# This code cell will not be shown in the HTML version of this notebook\n",
    "# initial centroids - here particular chosen\n",
    "pt_inds = [20,21,22]\n",
    "init_centroids = data[:,pt_inds]\n",
    "\n",
    "# run K-means animator using Python implementation above\n",
    "savepath = 'videos/animation_5.mp4'\n",
    "unsuperlib.K_means_demos.run_animated_demo(savepath,data,init_centroids,max_its = 5,fps=0.5)"
   ]
  },
  {
   "cell_type": "code",
   "execution_count": 14,
   "metadata": {
    "slideshow": {
     "slide_type": "subslide"
    }
   },
   "outputs": [
    {
     "data": {
      "text/html": [
       "\n",
       "<video width=\"1000\" height=\"400\" controls loop>\n",
       "  <source src=\"videos/animation_5.mp4\" type=\"video/mp4\">\n",
       "  </video>\n"
      ],
      "text/plain": [
       "<IPython.core.display.HTML object>"
      ]
     },
     "execution_count": 14,
     "metadata": {},
     "output_type": "execute_result"
    }
   ],
   "source": [
    "## This code cell will not be shown in the HTML version of this notebook\n",
    "# load video into notebook\n",
    "from IPython.display import HTML\n",
    "HTML(\"\"\"\n",
    "<video width=\"1000\" height=\"400\" controls loop>\n",
    "  <source src=\"videos/animation_5.mp4\" type=\"video/mp4\">\n",
    "  </video>\n",
    "\"\"\")"
   ]
  },
  {
   "cell_type": "markdown",
   "metadata": {
    "collapsed": true,
    "slideshow": {
     "slide_type": "subslide"
    }
   },
   "source": [
    "- Once again the best antidote for this issue is to simply re-run the algorithm with a different initialization.  \n",
    "\n",
    "\n",
    "- To determine the best clustering from set of runs we can use the *average distance of each point to its cluster centroid* - called the *average intra-cluster distance* - as an objective measure to rank the runs.  \n",
    "\n",
    "\n",
    "- Denoting $\\mathbf{c}_{k_p}$ the final cluster centroid of the $p^{th}$ point $\\mathbf{x}_p$, then the average distance from each point to its respective centroid can be written as"
   ]
  },
  {
   "cell_type": "markdown",
   "metadata": {
    "slideshow": {
     "slide_type": "subslide"
    }
   },
   "source": [
    "\\begin{equation}\n",
    "\\text{average intra-cluster distance} = \\frac{1}{P}\\sum_{p=1}^P \\left \\Vert \\mathbf{x}_p - \\mathbf{c}_{k_p} \\right \\Vert_2.\n",
    "\\end{equation}"
   ]
  },
  {
   "cell_type": "markdown",
   "metadata": {
    "slideshow": {
     "slide_type": "subslide"
    }
   },
   "source": [
    "- Computing this for each run of K-means we choose the final clustering that achieves the *smallest* such value as the best clustering arrangement.\n",
    "\n",
    "\n",
    "- To illustrate the usage of the intra-cluster distance as a measurement for the quality of a clustering run, below we run ``K-means`` using the previous two initializations as well as one additional one that results in a perfect clustering on the toy dataset above. \n",
    "\n",
    "\n",
    "- We then plot the final clustering provided by each initialization - with the average intra-cluster distance in each printed above the panel."
   ]
  },
  {
   "cell_type": "code",
   "execution_count": 14,
   "metadata": {
    "slideshow": {
     "slide_type": "subslide"
    }
   },
   "outputs": [
    {
     "data": {
      "image/png": "[encoded data removed]",
      "text/plain": [
       "<matplotlib.figure.Figure at 0x124e82e10>"
      ]
     },
     "metadata": {},
     "output_type": "display_data"
    }
   ],
   "source": [
    "# This code cell will not be shown in the HTML version of this notebook\n",
    "# our first initialization --> leading to an empty cluster\n",
    "init_centroids_1 = np.array([[-0.57069626, -1.49710357,  0.02538411],\n",
    "                           [ 1.77397192,  2.98237079,  0.53539765]])\n",
    "\n",
    "# our second initialization --> leading to a sub-optimal clustering\n",
    "pt_inds = [20,21,22]\n",
    "init_centroids_2 = data[:,pt_inds]\n",
    "\n",
    "# our third initialization --> leading to a perfect clustering\n",
    "pt_inds = np.array([13, 10, 23])\n",
    "init_centroids_3 = data[:,pt_inds]\n",
    "\n",
    "# run K-means with each initialization above and plot the resulting clustering\n",
    "init_centroids = [init_centroids_1,init_centroids_2,init_centroids_3]\n",
    "unsuperlib.K_means_demos.compare_runs(data,init_centroids,max_its = 10)"
   ]
  },
  {
   "cell_type": "markdown",
   "metadata": {
    "slideshow": {
     "slide_type": "subslide"
    }
   },
   "source": [
    "- Here we can see how the average intra-cluster distance provides us with a simple numerical way to compare the quality of various clusterings (when $K$ is fixed). \n",
    "\n",
    "\n",
    "- Above we can see how in this instance the empty-cluster scenario (left panel) provided the worst value, the sub-optimal clustering (middle panel) a slightly lower value, and the optimal clustering (right panel) a significantly lower value. "
   ]
  },
  {
   "cell_type": "markdown",
   "metadata": {
    "slideshow": {
     "slide_type": "slide"
    }
   },
   "source": [
    "#### <span style=\"color:#a50e3e;\">Example.</span>  Choosing the ideal number of clusters $K$"
   ]
  },
  {
   "cell_type": "markdown",
   "metadata": {
    "slideshow": {
     "slide_type": "subslide"
    }
   },
   "source": [
    "- To determine the optimal setting of the parameter $K$ - i.e., the number of clusters in which to cluster the data - we typically must try a range of different values for $K$, run the K-means algorithm in each case, and compare the results using the average intra-cluster distance.  \n",
    "\n",
    "\n",
    "- Of course if we achieve an optimal clusterings for each value of $K$ (perhaps running the algorithm multiple times for each value of $K$) then the intra-cluster distance should *always go down as we increase the value of $K$* since we are partitioning the dataset into more and more small chunks. "
   ]
  },
  {
   "cell_type": "markdown",
   "metadata": {
    "slideshow": {
     "slide_type": "subslide"
    }
   },
   "source": [
    "- For example, in the Python cell below we plot the intra-cluster distance for the dataset used in the previous example resulting from 10 runs of K-means using $K=1,\\ldots,10$, with a maximum number of 10 iterations per run.  \n",
    "\n",
    "\n",
    "- This plot is often referred to in the jargon of machine learning as a *scree plot*."
   ]
  },
  {
   "cell_type": "code",
   "execution_count": 3,
   "metadata": {
    "code_folding": [],
    "slideshow": {
     "slide_type": "subslide"
    }
   },
   "outputs": [
    {
     "data": {
      "image/png": "[encoded data removed]",
      "text/plain": [
       "<matplotlib.figure.Figure at 0x1208dd400>"
      ]
     },
     "metadata": {},
     "output_type": "display_data"
    }
   ],
   "source": [
    "# This code cell will not be shown in the HTML version of this notebook\n",
    "# scree plot\n",
    "K_range = [1,2,3,4,5,6,7,8,9,10]\n",
    "unsuperlib.K_means_demos.scree_plot(data,K_range,max_its = 10)"
   ]
  },
  {
   "cell_type": "markdown",
   "metadata": {
    "slideshow": {
     "slide_type": "subslide"
    }
   },
   "source": [
    "- As one should expect, the intra-cluster distance decreases monotonically as we increase $K$. \n",
    "\n",
    "\n",
    "- Notice, however that the scree plot above has an *elbow* at $K=3$, meaning that increasing the number of clusters from $3$ to $4$ and onwards reduces the objective value by very little. \n",
    "\n",
    "\n",
    "- Because of this we can argue that $K=3$ is a good choice for the number of clusters for this particular dataset (as we saw in the prior example, it is indeed the optimal number) since any fewer clusters and the intra-cluster distance is comparatively large, while adding additional clusters does not decrease the total intra-cluster distance too much."
   ]
  },
  {
   "cell_type": "markdown",
   "metadata": {
    "slideshow": {
     "slide_type": "subslide"
    }
   },
   "source": [
    "- This illustrates the typical usage of the *scree plot* for deciding on an ideal number of clusters $K$ for K-means.  \n",
    "\n",
    "\n",
    "- We compute and then plot the intra-cluster distance over a range of values for $K$, and pick the value at the 'elbow' of the plot."
   ]
  },
  {
   "cell_type": "markdown",
   "metadata": {
    "slideshow": {
     "slide_type": "skip"
    }
   },
   "source": [
    "<a id='endnotes'></a>\n",
    "## References\n",
    "\n",
    "[1] D’Haeseleer, P. How does gene expression clustering work? Nature Biotechnology. 23, 1499–1501, (2005).\n",
    "\n",
    "[2] Eisen, M.B., Spellman, P.T., Brown, P.O. and Botstein, D. Cluster analysis and display of genome-wide expression patterns. Proc. Natl. Acad. Sci. USA 95, 14863–14868, (1998)."
   ]
  }
 ],
 "metadata": {
  "anaconda-cloud": {},
  "celltoolbar": "Slideshow",
  "kernelspec": {
   "display_name": "Python 3",
   "language": "python",
   "name": "python3"
  },
  "language_info": {
   "codemirror_mode": {
    "name": "ipython",
    "version": 3
   },
   "file_extension": ".py",
   "mimetype": "text/x-python",
   "name": "python",
   "nbconvert_exporter": "python",
   "pygments_lexer": "ipython3",
   "version": "3.6.6"
  },
  "toc": {
   "colors": {
    "hover_highlight": "#DAA520",
    "navigate_num": "#000000",
    "navigate_text": "#333333",
    "running_highlight": "#FF0000",
    "selected_highlight": "#FFD700",
    "sidebar_border": "#EEEEEE",
    "wrapper_background": "#FFFFFF"
   },
   "moveMenuLeft": true,
   "nav_menu": {
    "height": "214px",
    "width": "252px"
   },
   "navigate_menu": true,
   "number_sections": false,
   "sideBar": true,
   "threshold": 4,
   "toc_cell": false,
   "toc_section_display": "block",
   "toc_window_display": false,
   "widenNotebook": false
  },
  "widgets": {
   "application/vnd.jupyter.widget-state+json": {
    "state": {},
    "version_major": 1,
    "version_minor": 0
   }
  }
 },
 "nbformat": 4,
 "nbformat_minor": 1
}

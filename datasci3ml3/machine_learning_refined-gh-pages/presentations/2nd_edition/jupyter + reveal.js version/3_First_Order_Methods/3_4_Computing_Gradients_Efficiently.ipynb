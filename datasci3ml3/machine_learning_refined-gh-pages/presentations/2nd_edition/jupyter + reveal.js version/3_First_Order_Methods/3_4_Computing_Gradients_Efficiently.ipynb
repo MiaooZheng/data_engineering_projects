{
 "cells": [
  {
   "cell_type": "markdown",
   "metadata": {
    "slideshow": {
     "slide_type": "slide"
    }
   },
   "source": [
    "# 3.4 Computing Gradients Efficiently"
   ]
  },
  {
   "cell_type": "markdown",
   "metadata": {
    "slideshow": {
     "slide_type": "subslide"
    }
   },
   "source": [
    "- Think about how you perform basic arithemetic - say how you perform the multiplication of two numbers.  \n",
    "\n",
    "\n",
    "- If the two numbers are small - say $8$ times $7$, or $5$ times $2$ - you can likely do the multiplication in your head.  \n",
    "\n",
    "\n",
    "- Otherwise, for larger numbers, you use an *algorithm* you learned in school."
   ]
  },
  {
   "cell_type": "markdown",
   "metadata": {
    "slideshow": {
     "slide_type": "subslide"
    }
   },
   "source": [
    "- The algorithm for multiplication is great - its *simple* and *repetitive*, built from a small list of basic rules, and works regardless of the two numbers you multiply together.\n",
    "\n",
    "\n",
    "- But *performing* the algorithm yourself is *boring* and *time consuming*, and you can easily mess up too. "
   ]
  },
  {
   "cell_type": "markdown",
   "metadata": {
    "slideshow": {
     "slide_type": "subslide"
    }
   },
   "source": [
    "- For example, go ahead and compute $140,283,197,523 \\times 224,179,234,112$ by hand, won't you?   \n",
    "\n",
    "\n",
    "\n",
    "- Instead you use a *calculator*, it *automates the process of using the multiplication algorithm*.  "
   ]
  },
  {
   "cell_type": "markdown",
   "metadata": {
    "slideshow": {
     "slide_type": "subslide"
    }
   },
   "source": [
    "- An arithmetic calculator allows *you* to compute with much greater efficiency and accuracy, and empowers *you* to use the fruits of arithmetic computation for more important tasks.  \n",
    "\n",
    "\n",
    "- Computing derivatives is just like this."
   ]
  },
  {
   "cell_type": "markdown",
   "metadata": {
    "slideshow": {
     "slide_type": "subslide"
    }
   },
   "source": [
    "- You likely learned a bunch of basic rules for computing derivatives in school, and can compute simple examples like $g(w) = w^3$ and $g(w) = \\text{sin}(w)$.  \n",
    "\n",
    "\n",
    "- But what about this one?   \n",
    "\n",
    "$$g\\left(w_1,w_2\\right) = 2^{\\text{sin}\\left(0.1w_1^2 + 0.5w_2^2\\right)}\\text{tanh}\\left(w_2^4\\,\\text{tanh}\\left(w_1 + {\\text{sin}\\left(0.2w_2^2\\right)} \\right) \\right)$$ "
   ]
  },
  {
   "cell_type": "markdown",
   "metadata": {
    "slideshow": {
     "slide_type": "subslide"
    }
   },
   "source": [
    "- You *could* compute the derivatives yourself, since the process is simple and repetitive, but its also *boring* and *time cosuming* and you could easily mess up.\n",
    "\n",
    "\n",
    "- Your time is better spent doing more thought-intensive things, so why not use a calculator instead?  "
   ]
  },
  {
   "cell_type": "markdown",
   "metadata": {
    "slideshow": {
     "slide_type": "subslide"
    }
   },
   "source": [
    "- A gradient calculator or *Automatic Differentiator* allows *you* to compute with much greater effeciency and accuracy, and empowers you to use the fruits of gradient computation for more important tasks.\n",
    "\n",
    "\n",
    "- In Appendix B we describe how to use a powerful and easy to use `Python` Automatic Differentiator called `autograd`. "
   ]
  }
 ],
 "metadata": {
  "anaconda-cloud": {},
  "celltoolbar": "Slideshow",
  "kernelspec": {
   "display_name": "Python 3",
   "language": "python",
   "name": "python3"
  },
  "language_info": {
   "codemirror_mode": {
    "name": "ipython",
    "version": 3
   },
   "file_extension": ".py",
   "mimetype": "text/x-python",
   "name": "python",
   "nbconvert_exporter": "python",
   "pygments_lexer": "ipython3",
   "version": "3.6.6"
  },
  "toc": {
   "colors": {
    "hover_highlight": "#DAA520",
    "navigate_num": "#000000",
    "navigate_text": "#333333",
    "running_highlight": "#FF0000",
    "selected_highlight": "#FFD700",
    "sidebar_border": "#EEEEEE",
    "wrapper_background": "#FFFFFF"
   },
   "moveMenuLeft": true,
   "nav_menu": {
    "height": "30px",
    "width": "252px"
   },
   "navigate_menu": true,
   "number_sections": false,
   "sideBar": true,
   "threshold": 4,
   "toc_cell": false,
   "toc_section_display": "block",
   "toc_window_display": false,
   "widenNotebook": false
  },
  "widgets": {
   "application/vnd.jupyter.widget-state+json": {
    "state": {},
    "version_major": 1,
    "version_minor": 0
   }
  }
 },
 "nbformat": 4,
 "nbformat_minor": 1
}
